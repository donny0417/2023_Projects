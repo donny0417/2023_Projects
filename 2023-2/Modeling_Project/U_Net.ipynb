{
  "nbformat": 4,
  "nbformat_minor": 0,
  "metadata": {
    "colab": {
      "provenance": []
    },
    "kernelspec": {
      "name": "python3",
      "display_name": "Python 3"
    },
    "language_info": {
      "name": "python"
    },
    "widgets": {
      "application/vnd.jupyter.widget-state+json": {
        "cab52c65ba0a457892a4d35a311b91c1": {
          "model_module": "@jupyter-widgets/controls",
          "model_name": "HBoxModel",
          "model_module_version": "1.5.0",
          "state": {
            "_dom_classes": [],
            "_model_module": "@jupyter-widgets/controls",
            "_model_module_version": "1.5.0",
            "_model_name": "HBoxModel",
            "_view_count": null,
            "_view_module": "@jupyter-widgets/controls",
            "_view_module_version": "1.5.0",
            "_view_name": "HBoxView",
            "box_style": "",
            "children": [
              "IPY_MODEL_2f33f9514f954477854cea94bd3bfb31",
              "IPY_MODEL_0888417f08d146e3b699c41d4e7e76b1",
              "IPY_MODEL_025f0829f2a042399064ce768eea5e99"
            ],
            "layout": "IPY_MODEL_1584cd9d989147fd91869c905a109241"
          }
        },
        "2f33f9514f954477854cea94bd3bfb31": {
          "model_module": "@jupyter-widgets/controls",
          "model_name": "HTMLModel",
          "model_module_version": "1.5.0",
          "state": {
            "_dom_classes": [],
            "_model_module": "@jupyter-widgets/controls",
            "_model_module_version": "1.5.0",
            "_model_name": "HTMLModel",
            "_view_count": null,
            "_view_module": "@jupyter-widgets/controls",
            "_view_module_version": "1.5.0",
            "_view_name": "HTMLView",
            "description": "",
            "description_tooltip": null,
            "layout": "IPY_MODEL_f111df78861c4f1db5c676b290f1896a",
            "placeholder": "​",
            "style": "IPY_MODEL_0d2125ed0cff4a7c99468e49fbed3776",
            "value": "100%"
          }
        },
        "0888417f08d146e3b699c41d4e7e76b1": {
          "model_module": "@jupyter-widgets/controls",
          "model_name": "FloatProgressModel",
          "model_module_version": "1.5.0",
          "state": {
            "_dom_classes": [],
            "_model_module": "@jupyter-widgets/controls",
            "_model_module_version": "1.5.0",
            "_model_name": "FloatProgressModel",
            "_view_count": null,
            "_view_module": "@jupyter-widgets/controls",
            "_view_module_version": "1.5.0",
            "_view_name": "ProgressView",
            "bar_style": "success",
            "description": "",
            "description_tooltip": null,
            "layout": "IPY_MODEL_7fd7de85720d47eeb5f8cdd43f5f673f",
            "max": 80,
            "min": 0,
            "orientation": "horizontal",
            "style": "IPY_MODEL_14b55f7d3e254cdb991ab539ebd21912",
            "value": 80
          }
        },
        "025f0829f2a042399064ce768eea5e99": {
          "model_module": "@jupyter-widgets/controls",
          "model_name": "HTMLModel",
          "model_module_version": "1.5.0",
          "state": {
            "_dom_classes": [],
            "_model_module": "@jupyter-widgets/controls",
            "_model_module_version": "1.5.0",
            "_model_name": "HTMLModel",
            "_view_count": null,
            "_view_module": "@jupyter-widgets/controls",
            "_view_module_version": "1.5.0",
            "_view_name": "HTMLView",
            "description": "",
            "description_tooltip": null,
            "layout": "IPY_MODEL_47bd6bfe48804f8687a195f17d8d1930",
            "placeholder": "​",
            "style": "IPY_MODEL_4b0c905a52c4431d984f6484dabef223",
            "value": " 80/80 [00:25&lt;00:00,  3.83it/s]"
          }
        },
        "1584cd9d989147fd91869c905a109241": {
          "model_module": "@jupyter-widgets/base",
          "model_name": "LayoutModel",
          "model_module_version": "1.2.0",
          "state": {
            "_model_module": "@jupyter-widgets/base",
            "_model_module_version": "1.2.0",
            "_model_name": "LayoutModel",
            "_view_count": null,
            "_view_module": "@jupyter-widgets/base",
            "_view_module_version": "1.2.0",
            "_view_name": "LayoutView",
            "align_content": null,
            "align_items": null,
            "align_self": null,
            "border": null,
            "bottom": null,
            "display": null,
            "flex": null,
            "flex_flow": null,
            "grid_area": null,
            "grid_auto_columns": null,
            "grid_auto_flow": null,
            "grid_auto_rows": null,
            "grid_column": null,
            "grid_gap": null,
            "grid_row": null,
            "grid_template_areas": null,
            "grid_template_columns": null,
            "grid_template_rows": null,
            "height": null,
            "justify_content": null,
            "justify_items": null,
            "left": null,
            "margin": null,
            "max_height": null,
            "max_width": null,
            "min_height": null,
            "min_width": null,
            "object_fit": null,
            "object_position": null,
            "order": null,
            "overflow": null,
            "overflow_x": null,
            "overflow_y": null,
            "padding": null,
            "right": null,
            "top": null,
            "visibility": null,
            "width": null
          }
        },
        "f111df78861c4f1db5c676b290f1896a": {
          "model_module": "@jupyter-widgets/base",
          "model_name": "LayoutModel",
          "model_module_version": "1.2.0",
          "state": {
            "_model_module": "@jupyter-widgets/base",
            "_model_module_version": "1.2.0",
            "_model_name": "LayoutModel",
            "_view_count": null,
            "_view_module": "@jupyter-widgets/base",
            "_view_module_version": "1.2.0",
            "_view_name": "LayoutView",
            "align_content": null,
            "align_items": null,
            "align_self": null,
            "border": null,
            "bottom": null,
            "display": null,
            "flex": null,
            "flex_flow": null,
            "grid_area": null,
            "grid_auto_columns": null,
            "grid_auto_flow": null,
            "grid_auto_rows": null,
            "grid_column": null,
            "grid_gap": null,
            "grid_row": null,
            "grid_template_areas": null,
            "grid_template_columns": null,
            "grid_template_rows": null,
            "height": null,
            "justify_content": null,
            "justify_items": null,
            "left": null,
            "margin": null,
            "max_height": null,
            "max_width": null,
            "min_height": null,
            "min_width": null,
            "object_fit": null,
            "object_position": null,
            "order": null,
            "overflow": null,
            "overflow_x": null,
            "overflow_y": null,
            "padding": null,
            "right": null,
            "top": null,
            "visibility": null,
            "width": null
          }
        },
        "0d2125ed0cff4a7c99468e49fbed3776": {
          "model_module": "@jupyter-widgets/controls",
          "model_name": "DescriptionStyleModel",
          "model_module_version": "1.5.0",
          "state": {
            "_model_module": "@jupyter-widgets/controls",
            "_model_module_version": "1.5.0",
            "_model_name": "DescriptionStyleModel",
            "_view_count": null,
            "_view_module": "@jupyter-widgets/base",
            "_view_module_version": "1.2.0",
            "_view_name": "StyleView",
            "description_width": ""
          }
        },
        "7fd7de85720d47eeb5f8cdd43f5f673f": {
          "model_module": "@jupyter-widgets/base",
          "model_name": "LayoutModel",
          "model_module_version": "1.2.0",
          "state": {
            "_model_module": "@jupyter-widgets/base",
            "_model_module_version": "1.2.0",
            "_model_name": "LayoutModel",
            "_view_count": null,
            "_view_module": "@jupyter-widgets/base",
            "_view_module_version": "1.2.0",
            "_view_name": "LayoutView",
            "align_content": null,
            "align_items": null,
            "align_self": null,
            "border": null,
            "bottom": null,
            "display": null,
            "flex": null,
            "flex_flow": null,
            "grid_area": null,
            "grid_auto_columns": null,
            "grid_auto_flow": null,
            "grid_auto_rows": null,
            "grid_column": null,
            "grid_gap": null,
            "grid_row": null,
            "grid_template_areas": null,
            "grid_template_columns": null,
            "grid_template_rows": null,
            "height": null,
            "justify_content": null,
            "justify_items": null,
            "left": null,
            "margin": null,
            "max_height": null,
            "max_width": null,
            "min_height": null,
            "min_width": null,
            "object_fit": null,
            "object_position": null,
            "order": null,
            "overflow": null,
            "overflow_x": null,
            "overflow_y": null,
            "padding": null,
            "right": null,
            "top": null,
            "visibility": null,
            "width": null
          }
        },
        "14b55f7d3e254cdb991ab539ebd21912": {
          "model_module": "@jupyter-widgets/controls",
          "model_name": "ProgressStyleModel",
          "model_module_version": "1.5.0",
          "state": {
            "_model_module": "@jupyter-widgets/controls",
            "_model_module_version": "1.5.0",
            "_model_name": "ProgressStyleModel",
            "_view_count": null,
            "_view_module": "@jupyter-widgets/base",
            "_view_module_version": "1.2.0",
            "_view_name": "StyleView",
            "bar_color": null,
            "description_width": ""
          }
        },
        "47bd6bfe48804f8687a195f17d8d1930": {
          "model_module": "@jupyter-widgets/base",
          "model_name": "LayoutModel",
          "model_module_version": "1.2.0",
          "state": {
            "_model_module": "@jupyter-widgets/base",
            "_model_module_version": "1.2.0",
            "_model_name": "LayoutModel",
            "_view_count": null,
            "_view_module": "@jupyter-widgets/base",
            "_view_module_version": "1.2.0",
            "_view_name": "LayoutView",
            "align_content": null,
            "align_items": null,
            "align_self": null,
            "border": null,
            "bottom": null,
            "display": null,
            "flex": null,
            "flex_flow": null,
            "grid_area": null,
            "grid_auto_columns": null,
            "grid_auto_flow": null,
            "grid_auto_rows": null,
            "grid_column": null,
            "grid_gap": null,
            "grid_row": null,
            "grid_template_areas": null,
            "grid_template_columns": null,
            "grid_template_rows": null,
            "height": null,
            "justify_content": null,
            "justify_items": null,
            "left": null,
            "margin": null,
            "max_height": null,
            "max_width": null,
            "min_height": null,
            "min_width": null,
            "object_fit": null,
            "object_position": null,
            "order": null,
            "overflow": null,
            "overflow_x": null,
            "overflow_y": null,
            "padding": null,
            "right": null,
            "top": null,
            "visibility": null,
            "width": null
          }
        },
        "4b0c905a52c4431d984f6484dabef223": {
          "model_module": "@jupyter-widgets/controls",
          "model_name": "DescriptionStyleModel",
          "model_module_version": "1.5.0",
          "state": {
            "_model_module": "@jupyter-widgets/controls",
            "_model_module_version": "1.5.0",
            "_model_name": "DescriptionStyleModel",
            "_view_count": null,
            "_view_module": "@jupyter-widgets/base",
            "_view_module_version": "1.2.0",
            "_view_name": "StyleView",
            "description_width": ""
          }
        },
        "84e6e91a9fae4a5eabc08edab7c2cfe4": {
          "model_module": "@jupyter-widgets/controls",
          "model_name": "HBoxModel",
          "model_module_version": "1.5.0",
          "state": {
            "_dom_classes": [],
            "_model_module": "@jupyter-widgets/controls",
            "_model_module_version": "1.5.0",
            "_model_name": "HBoxModel",
            "_view_count": null,
            "_view_module": "@jupyter-widgets/controls",
            "_view_module_version": "1.5.0",
            "_view_name": "HBoxView",
            "box_style": "",
            "children": [
              "IPY_MODEL_017020dd430443d883b154514fc09c22",
              "IPY_MODEL_44f31979cb2848a8a44fa0cbdf89d9c1",
              "IPY_MODEL_1a7683673bc64419ae3ca7e1b2727dd0"
            ],
            "layout": "IPY_MODEL_4e44ae25313c4899969a12cc2117454e"
          }
        },
        "017020dd430443d883b154514fc09c22": {
          "model_module": "@jupyter-widgets/controls",
          "model_name": "HTMLModel",
          "model_module_version": "1.5.0",
          "state": {
            "_dom_classes": [],
            "_model_module": "@jupyter-widgets/controls",
            "_model_module_version": "1.5.0",
            "_model_name": "HTMLModel",
            "_view_count": null,
            "_view_module": "@jupyter-widgets/controls",
            "_view_module_version": "1.5.0",
            "_view_name": "HTMLView",
            "description": "",
            "description_tooltip": null,
            "layout": "IPY_MODEL_09b79b5eb3434f0a83ce22e0a1b78f7e",
            "placeholder": "​",
            "style": "IPY_MODEL_e5b45e29c88e47c5853f82dbda02d2af",
            "value": "100%"
          }
        },
        "44f31979cb2848a8a44fa0cbdf89d9c1": {
          "model_module": "@jupyter-widgets/controls",
          "model_name": "FloatProgressModel",
          "model_module_version": "1.5.0",
          "state": {
            "_dom_classes": [],
            "_model_module": "@jupyter-widgets/controls",
            "_model_module_version": "1.5.0",
            "_model_name": "FloatProgressModel",
            "_view_count": null,
            "_view_module": "@jupyter-widgets/controls",
            "_view_module_version": "1.5.0",
            "_view_name": "ProgressView",
            "bar_style": "success",
            "description": "",
            "description_tooltip": null,
            "layout": "IPY_MODEL_41c1aa01b58f483c870aa1c513882bbf",
            "max": 20,
            "min": 0,
            "orientation": "horizontal",
            "style": "IPY_MODEL_cea1c73ff97646ccb887cb8d3103c449",
            "value": 20
          }
        },
        "1a7683673bc64419ae3ca7e1b2727dd0": {
          "model_module": "@jupyter-widgets/controls",
          "model_name": "HTMLModel",
          "model_module_version": "1.5.0",
          "state": {
            "_dom_classes": [],
            "_model_module": "@jupyter-widgets/controls",
            "_model_module_version": "1.5.0",
            "_model_name": "HTMLModel",
            "_view_count": null,
            "_view_module": "@jupyter-widgets/controls",
            "_view_module_version": "1.5.0",
            "_view_name": "HTMLView",
            "description": "",
            "description_tooltip": null,
            "layout": "IPY_MODEL_e36b9219e17f4545b6c6a552cab4f46f",
            "placeholder": "​",
            "style": "IPY_MODEL_1c104587ade34ba984d63759981cb7bd",
            "value": " 20/20 [00:04&lt;00:00,  5.51it/s]"
          }
        },
        "4e44ae25313c4899969a12cc2117454e": {
          "model_module": "@jupyter-widgets/base",
          "model_name": "LayoutModel",
          "model_module_version": "1.2.0",
          "state": {
            "_model_module": "@jupyter-widgets/base",
            "_model_module_version": "1.2.0",
            "_model_name": "LayoutModel",
            "_view_count": null,
            "_view_module": "@jupyter-widgets/base",
            "_view_module_version": "1.2.0",
            "_view_name": "LayoutView",
            "align_content": null,
            "align_items": null,
            "align_self": null,
            "border": null,
            "bottom": null,
            "display": null,
            "flex": null,
            "flex_flow": null,
            "grid_area": null,
            "grid_auto_columns": null,
            "grid_auto_flow": null,
            "grid_auto_rows": null,
            "grid_column": null,
            "grid_gap": null,
            "grid_row": null,
            "grid_template_areas": null,
            "grid_template_columns": null,
            "grid_template_rows": null,
            "height": null,
            "justify_content": null,
            "justify_items": null,
            "left": null,
            "margin": null,
            "max_height": null,
            "max_width": null,
            "min_height": null,
            "min_width": null,
            "object_fit": null,
            "object_position": null,
            "order": null,
            "overflow": null,
            "overflow_x": null,
            "overflow_y": null,
            "padding": null,
            "right": null,
            "top": null,
            "visibility": null,
            "width": null
          }
        },
        "09b79b5eb3434f0a83ce22e0a1b78f7e": {
          "model_module": "@jupyter-widgets/base",
          "model_name": "LayoutModel",
          "model_module_version": "1.2.0",
          "state": {
            "_model_module": "@jupyter-widgets/base",
            "_model_module_version": "1.2.0",
            "_model_name": "LayoutModel",
            "_view_count": null,
            "_view_module": "@jupyter-widgets/base",
            "_view_module_version": "1.2.0",
            "_view_name": "LayoutView",
            "align_content": null,
            "align_items": null,
            "align_self": null,
            "border": null,
            "bottom": null,
            "display": null,
            "flex": null,
            "flex_flow": null,
            "grid_area": null,
            "grid_auto_columns": null,
            "grid_auto_flow": null,
            "grid_auto_rows": null,
            "grid_column": null,
            "grid_gap": null,
            "grid_row": null,
            "grid_template_areas": null,
            "grid_template_columns": null,
            "grid_template_rows": null,
            "height": null,
            "justify_content": null,
            "justify_items": null,
            "left": null,
            "margin": null,
            "max_height": null,
            "max_width": null,
            "min_height": null,
            "min_width": null,
            "object_fit": null,
            "object_position": null,
            "order": null,
            "overflow": null,
            "overflow_x": null,
            "overflow_y": null,
            "padding": null,
            "right": null,
            "top": null,
            "visibility": null,
            "width": null
          }
        },
        "e5b45e29c88e47c5853f82dbda02d2af": {
          "model_module": "@jupyter-widgets/controls",
          "model_name": "DescriptionStyleModel",
          "model_module_version": "1.5.0",
          "state": {
            "_model_module": "@jupyter-widgets/controls",
            "_model_module_version": "1.5.0",
            "_model_name": "DescriptionStyleModel",
            "_view_count": null,
            "_view_module": "@jupyter-widgets/base",
            "_view_module_version": "1.2.0",
            "_view_name": "StyleView",
            "description_width": ""
          }
        },
        "41c1aa01b58f483c870aa1c513882bbf": {
          "model_module": "@jupyter-widgets/base",
          "model_name": "LayoutModel",
          "model_module_version": "1.2.0",
          "state": {
            "_model_module": "@jupyter-widgets/base",
            "_model_module_version": "1.2.0",
            "_model_name": "LayoutModel",
            "_view_count": null,
            "_view_module": "@jupyter-widgets/base",
            "_view_module_version": "1.2.0",
            "_view_name": "LayoutView",
            "align_content": null,
            "align_items": null,
            "align_self": null,
            "border": null,
            "bottom": null,
            "display": null,
            "flex": null,
            "flex_flow": null,
            "grid_area": null,
            "grid_auto_columns": null,
            "grid_auto_flow": null,
            "grid_auto_rows": null,
            "grid_column": null,
            "grid_gap": null,
            "grid_row": null,
            "grid_template_areas": null,
            "grid_template_columns": null,
            "grid_template_rows": null,
            "height": null,
            "justify_content": null,
            "justify_items": null,
            "left": null,
            "margin": null,
            "max_height": null,
            "max_width": null,
            "min_height": null,
            "min_width": null,
            "object_fit": null,
            "object_position": null,
            "order": null,
            "overflow": null,
            "overflow_x": null,
            "overflow_y": null,
            "padding": null,
            "right": null,
            "top": null,
            "visibility": null,
            "width": null
          }
        },
        "cea1c73ff97646ccb887cb8d3103c449": {
          "model_module": "@jupyter-widgets/controls",
          "model_name": "ProgressStyleModel",
          "model_module_version": "1.5.0",
          "state": {
            "_model_module": "@jupyter-widgets/controls",
            "_model_module_version": "1.5.0",
            "_model_name": "ProgressStyleModel",
            "_view_count": null,
            "_view_module": "@jupyter-widgets/base",
            "_view_module_version": "1.2.0",
            "_view_name": "StyleView",
            "bar_color": null,
            "description_width": ""
          }
        },
        "e36b9219e17f4545b6c6a552cab4f46f": {
          "model_module": "@jupyter-widgets/base",
          "model_name": "LayoutModel",
          "model_module_version": "1.2.0",
          "state": {
            "_model_module": "@jupyter-widgets/base",
            "_model_module_version": "1.2.0",
            "_model_name": "LayoutModel",
            "_view_count": null,
            "_view_module": "@jupyter-widgets/base",
            "_view_module_version": "1.2.0",
            "_view_name": "LayoutView",
            "align_content": null,
            "align_items": null,
            "align_self": null,
            "border": null,
            "bottom": null,
            "display": null,
            "flex": null,
            "flex_flow": null,
            "grid_area": null,
            "grid_auto_columns": null,
            "grid_auto_flow": null,
            "grid_auto_rows": null,
            "grid_column": null,
            "grid_gap": null,
            "grid_row": null,
            "grid_template_areas": null,
            "grid_template_columns": null,
            "grid_template_rows": null,
            "height": null,
            "justify_content": null,
            "justify_items": null,
            "left": null,
            "margin": null,
            "max_height": null,
            "max_width": null,
            "min_height": null,
            "min_width": null,
            "object_fit": null,
            "object_position": null,
            "order": null,
            "overflow": null,
            "overflow_x": null,
            "overflow_y": null,
            "padding": null,
            "right": null,
            "top": null,
            "visibility": null,
            "width": null
          }
        },
        "1c104587ade34ba984d63759981cb7bd": {
          "model_module": "@jupyter-widgets/controls",
          "model_name": "DescriptionStyleModel",
          "model_module_version": "1.5.0",
          "state": {
            "_model_module": "@jupyter-widgets/controls",
            "_model_module_version": "1.5.0",
            "_model_name": "DescriptionStyleModel",
            "_view_count": null,
            "_view_module": "@jupyter-widgets/base",
            "_view_module_version": "1.2.0",
            "_view_name": "StyleView",
            "description_width": ""
          }
        }
      }
    }
  },
  "cells": [
    {
      "cell_type": "code",
      "source": [
        "from google.colab import drive\n",
        "drive.mount('/content/drive')"
      ],
      "metadata": {
        "colab": {
          "base_uri": "https://localhost:8080/"
        },
        "id": "eoCA4-6dNiXZ",
        "outputId": "8158188b-f0ed-4cba-991a-cb1fac4841ae"
      },
      "execution_count": null,
      "outputs": [
        {
          "output_type": "stream",
          "name": "stdout",
          "text": [
            "Mounted at /content/drive\n"
          ]
        }
      ]
    },
    {
      "cell_type": "code",
      "execution_count": null,
      "metadata": {
        "colab": {
          "base_uri": "https://localhost:8080/"
        },
        "id": "M6yvu9IvNIqv",
        "outputId": "18280c83-8f67-48e8-ca51-5443ea6fefb9"
      },
      "outputs": [
        {
          "output_type": "stream",
          "name": "stdout",
          "text": [
            "/content/drive/MyDrive/DSL/2023_2/모델링 프로젝트\n"
          ]
        }
      ],
      "source": [
        "%cd /content/drive/MyDrive/DSL/2023_2/모델링 프로젝트\n",
        "\n",
        "!unzip -qq \"/content/drive/MyDrive/DSL/2023_2/모델링 프로젝트/TACO.zip\""
      ]
    },
    {
      "cell_type": "code",
      "source": [
        "import numpy as np\n",
        "import cv2\n",
        "import requests\n",
        "import os\n",
        "import imutils\n",
        "from PIL import Image\n",
        "from tqdm.notebook import tqdm"
      ],
      "metadata": {
        "id": "sFKuaZlgOgdn"
      },
      "execution_count": null,
      "outputs": []
    },
    {
      "cell_type": "code",
      "source": [
        "import matplotlib.pyplot as plt\n",
        "import matplotlib.gridspec as gridspec\n",
        "%matplotlib inline\n",
        "from random import shuffle\n",
        "\n",
        "from PIL import Image\n",
        "import sys\n",
        "import tensorflow as tf\n",
        "from tensorflow import keras\n",
        "from tensorflow.keras import *\n",
        "from tensorflow.keras.optimizers import *\n",
        "from tensorflow.keras.layers import *\n",
        "from tensorflow.keras.metrics import *"
      ],
      "metadata": {
        "id": "8veXiENJOvWt"
      },
      "execution_count": null,
      "outputs": []
    },
    {
      "cell_type": "code",
      "source": [
        "os.listdir('/content/drive/MyDrive/DSL/2023_2/모델링 프로젝트/TACO/data')"
      ],
      "metadata": {
        "colab": {
          "base_uri": "https://localhost:8080/"
        },
        "id": "dvmzKbVcO3Rr",
        "outputId": "b2e0f994-4dea-4cd9-c423-941f75c45cb5"
      },
      "execution_count": null,
      "outputs": [
        {
          "output_type": "execute_result",
          "data": {
            "text/plain": [
              "['annotations.json',\n",
              " 'batch_8',\n",
              " 'batch_9',\n",
              " '.DS_Store',\n",
              " 'batch_1',\n",
              " 'batch_10',\n",
              " 'batch_11',\n",
              " 'batch_12',\n",
              " 'batch_13',\n",
              " 'batch_14',\n",
              " 'batch_15',\n",
              " 'batch_2',\n",
              " 'batch_3',\n",
              " 'batch_4',\n",
              " 'batch_5',\n",
              " 'batch_6',\n",
              " 'batch_7']"
            ]
          },
          "metadata": {},
          "execution_count": 4
        }
      ]
    },
    {
      "cell_type": "markdown",
      "source": [
        "# 데이터 확인"
      ],
      "metadata": {
        "id": "OT-CNJt7QFJu"
      }
    },
    {
      "cell_type": "code",
      "source": [
        "import json\n",
        "\n",
        "annotation_file_path = '/content/drive/MyDrive/DSL/2023_2/모델링 프로젝트/TACO/data/batch_1/annotations.json'\n",
        "\n",
        "with open(annotation_file_path, 'r') as f:\n",
        "    taco_annotations = json.load(f)"
      ],
      "metadata": {
        "id": "dRn5DlBvQGOs"
      },
      "execution_count": null,
      "outputs": []
    },
    {
      "cell_type": "code",
      "source": [
        "taco_annotations.keys()"
      ],
      "metadata": {
        "colab": {
          "base_uri": "https://localhost:8080/"
        },
        "id": "_AkiMDtDotSK",
        "outputId": "51e6d9bc-10bf-431b-fa08-063676cf7ff3"
      },
      "execution_count": null,
      "outputs": [
        {
          "output_type": "execute_result",
          "data": {
            "text/plain": [
              "dict_keys(['info', 'images', 'annotations', 'scene_annotations', 'licenses', 'categories', 'scene_categories'])"
            ]
          },
          "metadata": {},
          "execution_count": 5
        }
      ]
    },
    {
      "cell_type": "code",
      "source": [
        "taco_annotations['images']"
      ],
      "metadata": {
        "colab": {
          "base_uri": "https://localhost:8080/"
        },
        "id": "hA1VWFebrB2A",
        "outputId": "ef427c96-7281-40d9-e514-9bd069a25d05"
      },
      "execution_count": null,
      "outputs": [
        {
          "output_type": "execute_result",
          "data": {
            "text/plain": [
              "[{'id': 0,\n",
              "  'width': 1537,\n",
              "  'height': 2049,\n",
              "  'file_name': '000006.jpg',\n",
              "  'license': None,\n",
              "  'flickr_url': 'https://farm66.staticflickr.com/65535/33978196618_e30a59e0a8_o.png',\n",
              "  'coco_url': None,\n",
              "  'date_captured': None,\n",
              "  'flickr_640_url': 'https://farm66.staticflickr.com/65535/33978196618_632623b4fc_z.jpg'},\n",
              " {'id': 1,\n",
              "  'width': 1537,\n",
              "  'height': 2049,\n",
              "  'file_name': '000008.jpg',\n",
              "  'license': None,\n",
              "  'flickr_url': 'https://farm66.staticflickr.com/65535/47803331152_ee00755a2e_o.png',\n",
              "  'coco_url': None,\n",
              "  'date_captured': None,\n",
              "  'flickr_640_url': 'https://farm66.staticflickr.com/65535/47803331152_19beae025a_z.jpg'},\n",
              " {'id': 2,\n",
              "  'width': 1537,\n",
              "  'height': 2049,\n",
              "  'file_name': '000010.jpg',\n",
              "  'license': None,\n",
              "  'flickr_url': 'https://farm66.staticflickr.com/65535/40888872753_08ffb24902_o.png',\n",
              "  'coco_url': None,\n",
              "  'date_captured': None,\n",
              "  'flickr_640_url': 'https://farm66.staticflickr.com/65535/40888872753_631ab0f441_z.jpg'},\n",
              " {'id': 3,\n",
              "  'width': 2049,\n",
              "  'height': 1537,\n",
              "  'file_name': '000019.jpg',\n",
              "  'license': None,\n",
              "  'flickr_url': 'https://farm66.staticflickr.com/65535/47803331492_0e1085ca55_o.png',\n",
              "  'coco_url': None,\n",
              "  'date_captured': None,\n",
              "  'flickr_640_url': 'https://farm66.staticflickr.com/65535/47803331492_b8c0e5aafe_z.jpg'},\n",
              " {'id': 4,\n",
              "  'width': 1537,\n",
              "  'height': 2049,\n",
              "  'file_name': '000026.jpg',\n",
              "  'license': None,\n",
              "  'flickr_url': 'https://farm66.staticflickr.com/65535/33978199868_88ee160849_o.png',\n",
              "  'coco_url': None,\n",
              "  'date_captured': None,\n",
              "  'flickr_640_url': 'https://farm66.staticflickr.com/65535/33978199868_1bc379170a_z.jpg'},\n",
              " {'id': 5,\n",
              "  'width': 2049,\n",
              "  'height': 1537,\n",
              "  'file_name': '000047.jpg',\n",
              "  'license': None,\n",
              "  'flickr_url': 'https://farm66.staticflickr.com/65535/33978200068_c6eed416ac_o.png',\n",
              "  'coco_url': None,\n",
              "  'date_captured': None,\n",
              "  'flickr_640_url': 'https://farm66.staticflickr.com/65535/33978200068_9cd0d8f6a2_z.jpg'},\n",
              " {'id': 6,\n",
              "  'width': 1537,\n",
              "  'height': 2049,\n",
              "  'file_name': '000055.jpg',\n",
              "  'license': None,\n",
              "  'flickr_url': 'https://farm66.staticflickr.com/65535/47803332212_af8cfa9704_o.png',\n",
              "  'coco_url': None,\n",
              "  'date_captured': None,\n",
              "  'flickr_640_url': 'https://farm66.staticflickr.com/65535/47803332212_0ff13e5eb1_z.jpg'},\n",
              " {'id': 7,\n",
              "  'width': 2049,\n",
              "  'height': 1537,\n",
              "  'file_name': '000001.jpg',\n",
              "  'license': None,\n",
              "  'flickr_url': 'https://farm66.staticflickr.com/65535/33978202498_effbca58ef_o.png',\n",
              "  'coco_url': None,\n",
              "  'date_captured': None,\n",
              "  'flickr_640_url': 'https://farm66.staticflickr.com/65535/33978202498_ef6d507616_z.jpg'},\n",
              " {'id': 8,\n",
              "  'width': 1537,\n",
              "  'height': 2049,\n",
              "  'file_name': '000005.jpg',\n",
              "  'license': None,\n",
              "  'flickr_url': 'https://farm66.staticflickr.com/65535/47803335992_9c58683430_o.png',\n",
              "  'coco_url': None,\n",
              "  'date_captured': None,\n",
              "  'flickr_640_url': 'https://farm66.staticflickr.com/65535/47803335992_ebcc4e3932_z.jpg'},\n",
              " {'id': 9,\n",
              "  'width': 1537,\n",
              "  'height': 2049,\n",
              "  'file_name': '000007.jpg',\n",
              "  'license': None,\n",
              "  'flickr_url': 'https://farm66.staticflickr.com/65535/47855505601_f75a430abc_o.png',\n",
              "  'coco_url': None,\n",
              "  'date_captured': None,\n",
              "  'flickr_640_url': 'https://farm66.staticflickr.com/65535/47855505601_a81c3ba8de_z.jpg'},\n",
              " {'id': 10,\n",
              "  'width': 1537,\n",
              "  'height': 2049,\n",
              "  'file_name': '000012.jpg',\n",
              "  'license': None,\n",
              "  'flickr_url': 'https://farm66.staticflickr.com/65535/40888877173_855795c875_o.png',\n",
              "  'coco_url': None,\n",
              "  'date_captured': None,\n",
              "  'flickr_640_url': 'https://farm66.staticflickr.com/65535/40888877173_734cec88e1_z.jpg'},\n",
              " {'id': 11,\n",
              "  'width': 1537,\n",
              "  'height': 2049,\n",
              "  'file_name': '000014.jpg',\n",
              "  'license': None,\n",
              "  'flickr_url': 'https://farm66.staticflickr.com/65535/47066066634_c50443ca0c_o.png',\n",
              "  'coco_url': None,\n",
              "  'date_captured': None,\n",
              "  'flickr_640_url': 'https://farm66.staticflickr.com/65535/47066066634_60a4f44241_z.jpg'},\n",
              " {'id': 12,\n",
              "  'width': 2049,\n",
              "  'height': 1537,\n",
              "  'file_name': '000048.jpg',\n",
              "  'license': None,\n",
              "  'flickr_url': 'https://farm66.staticflickr.com/65535/47803337262_8e069056d4_o.png',\n",
              "  'coco_url': None,\n",
              "  'date_captured': None,\n",
              "  'flickr_640_url': 'https://farm66.staticflickr.com/65535/47803337262_4965d5608b_z.jpg'},\n",
              " {'id': 13,\n",
              "  'width': 1537,\n",
              "  'height': 2049,\n",
              "  'file_name': '000053.jpg',\n",
              "  'license': None,\n",
              "  'flickr_url': 'https://farm66.staticflickr.com/65535/47066067064_84c534d654_o.png',\n",
              "  'coco_url': None,\n",
              "  'date_captured': None,\n",
              "  'flickr_640_url': 'https://farm66.staticflickr.com/65535/47066067064_b7ca7a114d_z.jpg'},\n",
              " {'id': 14,\n",
              "  'width': 1537,\n",
              "  'height': 2049,\n",
              "  'file_name': '000056.jpg',\n",
              "  'license': None,\n",
              "  'flickr_url': 'https://farm66.staticflickr.com/65535/47803337932_3b5ba10c22_o.png',\n",
              "  'coco_url': None,\n",
              "  'date_captured': None,\n",
              "  'flickr_640_url': 'https://farm66.staticflickr.com/65535/47803337932_f6a005f4c1_z.jpg'},\n",
              " {'id': 15,\n",
              "  'width': 1537,\n",
              "  'height': 2049,\n",
              "  'file_name': '000058.jpg',\n",
              "  'license': None,\n",
              "  'flickr_url': 'https://farm66.staticflickr.com/65535/46939252345_1059f19aa3_o.png',\n",
              "  'coco_url': None,\n",
              "  'date_captured': None,\n",
              "  'flickr_640_url': 'https://farm66.staticflickr.com/65535/46939252345_2a66fc213a_z.jpg'},\n",
              " {'id': 16,\n",
              "  'width': 1537,\n",
              "  'height': 2049,\n",
              "  'file_name': '000060.jpg',\n",
              "  'license': None,\n",
              "  'flickr_url': 'https://farm66.staticflickr.com/65535/33978204438_b8c0c2b2c9_o.png',\n",
              "  'coco_url': None,\n",
              "  'date_captured': None,\n",
              "  'flickr_640_url': 'https://farm66.staticflickr.com/65535/33978204438_f7bcf7de70_z.jpg'},\n",
              " {'id': 17,\n",
              "  'width': 1537,\n",
              "  'height': 2049,\n",
              "  'file_name': '000003.jpg',\n",
              "  'license': None,\n",
              "  'flickr_url': 'https://farm66.staticflickr.com/65535/47803339122_d3f0788742_o.png',\n",
              "  'coco_url': None,\n",
              "  'date_captured': None,\n",
              "  'flickr_640_url': 'https://farm66.staticflickr.com/65535/47803339122_f549dbb834_z.jpg'},\n",
              " {'id': 18,\n",
              "  'width': 1537,\n",
              "  'height': 2049,\n",
              "  'file_name': '000011.jpg',\n",
              "  'license': None,\n",
              "  'flickr_url': 'https://farm66.staticflickr.com/65535/40888879023_df1db6fbd9_o.png',\n",
              "  'coco_url': None,\n",
              "  'date_captured': None,\n",
              "  'flickr_640_url': 'https://farm66.staticflickr.com/65535/40888879023_9050b8b546_z.jpg'},\n",
              " {'id': 19,\n",
              "  'width': 1537,\n",
              "  'height': 2049,\n",
              "  'file_name': '000032.jpg',\n",
              "  'license': None,\n",
              "  'flickr_url': 'https://farm66.staticflickr.com/65535/32911398817_e6ef283545_o.png',\n",
              "  'coco_url': None,\n",
              "  'date_captured': None,\n",
              "  'flickr_640_url': 'https://farm66.staticflickr.com/65535/32911398817_4725c65593_z.jpg'},\n",
              " {'id': 20,\n",
              "  'width': 2049,\n",
              "  'height': 1537,\n",
              "  'file_name': '000040.jpg',\n",
              "  'license': None,\n",
              "  'flickr_url': 'https://farm66.staticflickr.com/65535/47855508601_8f8db2ac41_o.png',\n",
              "  'coco_url': None,\n",
              "  'date_captured': None,\n",
              "  'flickr_640_url': 'https://farm66.staticflickr.com/65535/47855508601_491860b3d0_z.jpg'},\n",
              " {'id': 21,\n",
              "  'width': 2049,\n",
              "  'height': 1537,\n",
              "  'file_name': '000043.jpg',\n",
              "  'license': None,\n",
              "  'flickr_url': 'https://farm66.staticflickr.com/65535/47855508711_22405cc468_o.png',\n",
              "  'coco_url': None,\n",
              "  'date_captured': None,\n",
              "  'flickr_640_url': 'https://farm66.staticflickr.com/65535/47855508711_00281dffb0_z.jpg'},\n",
              " {'id': 22,\n",
              "  'width': 1537,\n",
              "  'height': 2049,\n",
              "  'file_name': '000049.jpg',\n",
              "  'license': None,\n",
              "  'flickr_url': 'https://farm66.staticflickr.com/65535/47066069044_d036243818_o.png',\n",
              "  'coco_url': None,\n",
              "  'date_captured': None,\n",
              "  'flickr_640_url': 'https://farm66.staticflickr.com/65535/47066069044_fb605dece1_z.jpg'},\n",
              " {'id': 23,\n",
              "  'width': 1537,\n",
              "  'height': 2049,\n",
              "  'file_name': '000054.jpg',\n",
              "  'license': None,\n",
              "  'flickr_url': 'https://farm66.staticflickr.com/65535/47803340592_7e869ae7eb_o.png',\n",
              "  'coco_url': None,\n",
              "  'date_captured': None,\n",
              "  'flickr_640_url': 'https://farm66.staticflickr.com/65535/47803340592_325dd423bc_z.jpg'},\n",
              " {'id': 24,\n",
              "  'width': 1537,\n",
              "  'height': 2049,\n",
              "  'file_name': '000061.jpg',\n",
              "  'license': None,\n",
              "  'flickr_url': 'https://farm66.staticflickr.com/65535/47855509081_aa8d76f4cc_o.png',\n",
              "  'coco_url': None,\n",
              "  'date_captured': None,\n",
              "  'flickr_640_url': 'https://farm66.staticflickr.com/65535/47855509081_8c8f45066f_z.jpg'},\n",
              " {'id': 25,\n",
              "  'width': 2049,\n",
              "  'height': 1537,\n",
              "  'file_name': '000021.jpg',\n",
              "  'license': None,\n",
              "  'flickr_url': 'https://farm66.staticflickr.com/65535/46939254645_8c2662f96c_o.png',\n",
              "  'coco_url': None,\n",
              "  'date_captured': None,\n",
              "  'flickr_640_url': 'https://farm66.staticflickr.com/65535/46939254645_d86872df65_z.jpg'},\n",
              " {'id': 26,\n",
              "  'width': 2049,\n",
              "  'height': 1537,\n",
              "  'file_name': '000022.jpg',\n",
              "  'license': None,\n",
              "  'flickr_url': 'https://farm66.staticflickr.com/65535/46939254875_9da2bf390c_o.png',\n",
              "  'coco_url': None,\n",
              "  'date_captured': None,\n",
              "  'flickr_640_url': 'https://farm66.staticflickr.com/65535/46939254875_30ebf38f12_z.jpg'},\n",
              " {'id': 27,\n",
              "  'width': 1537,\n",
              "  'height': 2049,\n",
              "  'file_name': '000023.jpg',\n",
              "  'license': None,\n",
              "  'flickr_url': 'https://farm66.staticflickr.com/65535/33978206458_6f2ede98d9_o.png',\n",
              "  'coco_url': None,\n",
              "  'date_captured': None,\n",
              "  'flickr_640_url': 'https://farm66.staticflickr.com/65535/33978206458_ccaff895b0_z.jpg'},\n",
              " {'id': 28,\n",
              "  'width': 1537,\n",
              "  'height': 2049,\n",
              "  'file_name': '000024.jpg',\n",
              "  'license': None,\n",
              "  'flickr_url': 'https://farm66.staticflickr.com/65535/46939255385_13b538e7bb_o.png',\n",
              "  'coco_url': None,\n",
              "  'date_captured': None,\n",
              "  'flickr_640_url': 'https://farm66.staticflickr.com/65535/46939255385_3ecbdfafce_z.jpg'},\n",
              " {'id': 29,\n",
              "  'width': 1537,\n",
              "  'height': 2049,\n",
              "  'file_name': '000027.jpg',\n",
              "  'license': None,\n",
              "  'flickr_url': 'https://farm66.staticflickr.com/65535/33978206868_ace11c6368_o.png',\n",
              "  'coco_url': None,\n",
              "  'date_captured': None,\n",
              "  'flickr_640_url': 'https://farm66.staticflickr.com/65535/33978206868_c5eb6d91a0_z.jpg'},\n",
              " {'id': 30,\n",
              "  'width': 1537,\n",
              "  'height': 2049,\n",
              "  'file_name': '000028.jpg',\n",
              "  'license': None,\n",
              "  'flickr_url': 'https://farm66.staticflickr.com/65535/40888883943_ebb30f624d_o.png',\n",
              "  'coco_url': None,\n",
              "  'date_captured': None,\n",
              "  'flickr_640_url': 'https://farm66.staticflickr.com/65535/40888883943_d460ec74b9_z.jpg'},\n",
              " {'id': 31,\n",
              "  'width': 1537,\n",
              "  'height': 2049,\n",
              "  'file_name': '000030.jpg',\n",
              "  'license': None,\n",
              "  'flickr_url': 'https://farm66.staticflickr.com/65535/47803342522_5c60c6c4e0_o.png',\n",
              "  'coco_url': None,\n",
              "  'date_captured': None,\n",
              "  'flickr_640_url': 'https://farm66.staticflickr.com/65535/47803342522_ee56b5ffc7_z.jpg'},\n",
              " {'id': 32,\n",
              "  'width': 1537,\n",
              "  'height': 2049,\n",
              "  'file_name': '000031.jpg',\n",
              "  'license': None,\n",
              "  'flickr_url': 'https://farm66.staticflickr.com/65535/46939256375_97b40f0cfe_o.png',\n",
              "  'coco_url': None,\n",
              "  'date_captured': None,\n",
              "  'flickr_640_url': 'https://farm66.staticflickr.com/65535/46939256375_cab702038f_z.jpg'},\n",
              " {'id': 33,\n",
              "  'width': 2049,\n",
              "  'height': 1537,\n",
              "  'file_name': '000042.jpg',\n",
              "  'license': None,\n",
              "  'flickr_url': 'https://farm66.staticflickr.com/65535/40888885363_5a8f8bab71_o.png',\n",
              "  'coco_url': None,\n",
              "  'date_captured': None,\n",
              "  'flickr_640_url': 'https://farm66.staticflickr.com/65535/40888885363_5f97dea054_z.jpg'},\n",
              " {'id': 34,\n",
              "  'width': 1537,\n",
              "  'height': 2049,\n",
              "  'file_name': '000050.jpg',\n",
              "  'license': None,\n",
              "  'flickr_url': 'https://farm66.staticflickr.com/65535/46939256875_a0d7b3cf96_o.png',\n",
              "  'coco_url': None,\n",
              "  'date_captured': None,\n",
              "  'flickr_640_url': 'https://farm66.staticflickr.com/65535/46939256875_1e3f943358_z.jpg'},\n",
              " {'id': 35,\n",
              "  'width': 1537,\n",
              "  'height': 2049,\n",
              "  'file_name': '000059.jpg',\n",
              "  'license': None,\n",
              "  'flickr_url': 'https://farm66.staticflickr.com/65535/32911402747_496ac0b26e_o.png',\n",
              "  'coco_url': None,\n",
              "  'date_captured': None,\n",
              "  'flickr_640_url': 'https://farm66.staticflickr.com/65535/32911402747_4725bfdd20_z.jpg'},\n",
              " {'id': 36,\n",
              "  'width': 1537,\n",
              "  'height': 2049,\n",
              "  'file_name': '000000.jpg',\n",
              "  'license': None,\n",
              "  'flickr_url': 'https://farm66.staticflickr.com/65535/47066071374_9caeb15bcb_o.png',\n",
              "  'coco_url': None,\n",
              "  'date_captured': None,\n",
              "  'flickr_640_url': 'https://farm66.staticflickr.com/65535/47066071374_0347ce5037_z.jpg'},\n",
              " {'id': 37,\n",
              "  'width': 1537,\n",
              "  'height': 2049,\n",
              "  'file_name': '000013.jpg',\n",
              "  'license': None,\n",
              "  'flickr_url': 'https://farm66.staticflickr.com/65535/33978209058_cddb7831d8_o.png',\n",
              "  'coco_url': None,\n",
              "  'date_captured': None,\n",
              "  'flickr_640_url': 'https://farm66.staticflickr.com/65535/33978209058_6aaa69d0e4_z.jpg'},\n",
              " {'id': 38,\n",
              "  'width': 1537,\n",
              "  'height': 2049,\n",
              "  'file_name': '000015.jpg',\n",
              "  'license': None,\n",
              "  'flickr_url': 'https://farm66.staticflickr.com/65535/47855510791_aa4e7222dc_o.png',\n",
              "  'coco_url': None,\n",
              "  'date_captured': None,\n",
              "  'flickr_640_url': 'https://farm66.staticflickr.com/65535/47855510791_2c64fa1598_z.jpg'},\n",
              " {'id': 39,\n",
              "  'width': 1537,\n",
              "  'height': 2049,\n",
              "  'file_name': '000016.jpg',\n",
              "  'license': None,\n",
              "  'flickr_url': 'https://farm66.staticflickr.com/65535/47855510951_3642b54f28_o.png',\n",
              "  'coco_url': None,\n",
              "  'date_captured': None,\n",
              "  'flickr_640_url': 'https://farm66.staticflickr.com/65535/47855510951_2a1053520e_z.jpg'},\n",
              " {'id': 40,\n",
              "  'width': 1537,\n",
              "  'height': 2049,\n",
              "  'file_name': '000017.jpg',\n",
              "  'license': None,\n",
              "  'flickr_url': 'https://farm66.staticflickr.com/65535/47066072084_a009ce5de2_o.png',\n",
              "  'coco_url': None,\n",
              "  'date_captured': None,\n",
              "  'flickr_640_url': 'https://farm66.staticflickr.com/65535/47066072084_c282c2a55d_z.jpg'},\n",
              " {'id': 41,\n",
              "  'width': 1537,\n",
              "  'height': 2049,\n",
              "  'file_name': '000025.jpg',\n",
              "  'license': None,\n",
              "  'flickr_url': 'https://farm66.staticflickr.com/65535/40888889263_442454f466_o.png',\n",
              "  'coco_url': None,\n",
              "  'date_captured': None,\n",
              "  'flickr_640_url': 'https://farm66.staticflickr.com/65535/40888889263_c1d612cc87_z.jpg'},\n",
              " {'id': 42,\n",
              "  'width': 1537,\n",
              "  'height': 2049,\n",
              "  'file_name': '000029.jpg',\n",
              "  'license': None,\n",
              "  'flickr_url': 'https://farm66.staticflickr.com/65535/32911404057_b139c11643_o.png',\n",
              "  'coco_url': None,\n",
              "  'date_captured': None,\n",
              "  'flickr_640_url': 'https://farm66.staticflickr.com/65535/32911404057_297c502eef_z.jpg'},\n",
              " {'id': 43,\n",
              "  'width': 1537,\n",
              "  'height': 2049,\n",
              "  'file_name': '000035.jpg',\n",
              "  'license': None,\n",
              "  'flickr_url': 'https://farm66.staticflickr.com/65535/46939259475_207412b566_o.png',\n",
              "  'coco_url': None,\n",
              "  'date_captured': None,\n",
              "  'flickr_640_url': 'https://farm66.staticflickr.com/65535/46939259475_1189aa9f45_z.jpg'},\n",
              " {'id': 44,\n",
              "  'width': 2049,\n",
              "  'height': 1537,\n",
              "  'file_name': '000037.jpg',\n",
              "  'license': None,\n",
              "  'flickr_url': 'https://farm66.staticflickr.com/65535/32911404467_75881a027e_o.png',\n",
              "  'coco_url': None,\n",
              "  'date_captured': None,\n",
              "  'flickr_640_url': 'https://farm66.staticflickr.com/65535/32911404467_6bb8e83d98_z.jpg'},\n",
              " {'id': 45,\n",
              "  'width': 2049,\n",
              "  'height': 1537,\n",
              "  'file_name': '000045.jpg',\n",
              "  'license': None,\n",
              "  'flickr_url': 'https://farm66.staticflickr.com/65535/32911404617_b7c9ea03d6_o.png',\n",
              "  'coco_url': None,\n",
              "  'date_captured': None,\n",
              "  'flickr_640_url': 'https://farm66.staticflickr.com/65535/32911404617_3bba230dbb_z.jpg'},\n",
              " {'id': 46,\n",
              "  'width': 2049,\n",
              "  'height': 1537,\n",
              "  'file_name': '000038.jpg',\n",
              "  'license': None,\n",
              "  'flickr_url': 'https://farm66.staticflickr.com/65535/47855512471_7071ebff99_o.png',\n",
              "  'coco_url': None,\n",
              "  'date_captured': None,\n",
              "  'flickr_640_url': 'https://farm66.staticflickr.com/65535/47855512471_341e0585f4_z.jpg'},\n",
              " {'id': 47,\n",
              "  'width': 3264,\n",
              "  'height': 2448,\n",
              "  'file_name': '000065.JPG',\n",
              "  'license': None,\n",
              "  'flickr_url': 'https://farm66.staticflickr.com/65535/40888891223_63aa815f2e_o.png',\n",
              "  'coco_url': None,\n",
              "  'date_captured': None,\n",
              "  'flickr_640_url': 'https://farm66.staticflickr.com/65535/40888891223_855448d2d0_z.jpg'},\n",
              " {'id': 48,\n",
              "  'width': 3264,\n",
              "  'height': 2448,\n",
              "  'file_name': '000066.JPG',\n",
              "  'license': None,\n",
              "  'flickr_url': 'https://farm66.staticflickr.com/65535/47066073914_1100765265_o.png',\n",
              "  'coco_url': None,\n",
              "  'date_captured': None,\n",
              "  'flickr_640_url': 'https://farm66.staticflickr.com/65535/47066073914_b3463b53ca_z.jpg'},\n",
              " {'id': 49,\n",
              "  'width': 2448,\n",
              "  'height': 3264,\n",
              "  'file_name': '000067.JPG',\n",
              "  'license': None,\n",
              "  'flickr_url': 'https://farm66.staticflickr.com/65535/32911405727_69e1c9873d_o.png',\n",
              "  'coco_url': None,\n",
              "  'date_captured': None,\n",
              "  'flickr_640_url': 'https://farm66.staticflickr.com/65535/32911405727_5af811a99f_z.jpg'},\n",
              " {'id': 50,\n",
              "  'width': 2448,\n",
              "  'height': 3264,\n",
              "  'file_name': '000068.JPG',\n",
              "  'license': None,\n",
              "  'flickr_url': 'https://farm66.staticflickr.com/65535/40888893613_691904c622_o.png',\n",
              "  'coco_url': None,\n",
              "  'date_captured': None,\n",
              "  'flickr_640_url': 'https://farm66.staticflickr.com/65535/40888893613_4d171a62bf_z.jpg'},\n",
              " {'id': 51,\n",
              "  'width': 2448,\n",
              "  'height': 3264,\n",
              "  'file_name': '000069.JPG',\n",
              "  'license': None,\n",
              "  'flickr_url': 'https://farm66.staticflickr.com/65535/46939263035_3c1932bfe9_o.png',\n",
              "  'coco_url': None,\n",
              "  'date_captured': None,\n",
              "  'flickr_640_url': 'https://farm66.staticflickr.com/65535/46939263035_eec983ccb5_z.jpg'},\n",
              " {'id': 52,\n",
              "  'width': 2448,\n",
              "  'height': 3264,\n",
              "  'file_name': '000070.JPG',\n",
              "  'license': None,\n",
              "  'flickr_url': 'https://farm66.staticflickr.com/65535/33978213438_74b185f6e1_o.png',\n",
              "  'coco_url': None,\n",
              "  'date_captured': None,\n",
              "  'flickr_640_url': 'https://farm66.staticflickr.com/65535/33978213438_20eb524286_z.jpg'},\n",
              " {'id': 53,\n",
              "  'width': 2448,\n",
              "  'height': 3264,\n",
              "  'file_name': '000071.JPG',\n",
              "  'license': None,\n",
              "  'flickr_url': 'https://farm66.staticflickr.com/65535/46939264125_d775c9ff9a_o.png',\n",
              "  'coco_url': None,\n",
              "  'date_captured': None,\n",
              "  'flickr_640_url': 'https://farm66.staticflickr.com/65535/46939264125_0a6460af65_z.jpg'},\n",
              " {'id': 54,\n",
              "  'width': 2448,\n",
              "  'height': 3264,\n",
              "  'file_name': '000072.JPG',\n",
              "  'license': None,\n",
              "  'flickr_url': 'https://farm66.staticflickr.com/65535/47066077624_548c86cbb1_o.png',\n",
              "  'coco_url': None,\n",
              "  'date_captured': None,\n",
              "  'flickr_640_url': 'https://farm66.staticflickr.com/65535/47066077624_d58b970abe_z.jpg'},\n",
              " {'id': 55,\n",
              "  'width': 2448,\n",
              "  'height': 3264,\n",
              "  'file_name': '000073.JPG',\n",
              "  'license': None,\n",
              "  'flickr_url': 'https://farm66.staticflickr.com/65535/46939264945_05393214bd_o.png',\n",
              "  'coco_url': None,\n",
              "  'date_captured': None,\n",
              "  'flickr_640_url': 'https://farm66.staticflickr.com/65535/46939264945_f7059993cd_z.jpg'},\n",
              " {'id': 56,\n",
              "  'width': 2448,\n",
              "  'height': 3264,\n",
              "  'file_name': '000074.JPG',\n",
              "  'license': None,\n",
              "  'flickr_url': 'https://farm66.staticflickr.com/65535/33978214998_0fabe0f005_o.png',\n",
              "  'coco_url': None,\n",
              "  'date_captured': None,\n",
              "  'flickr_640_url': 'https://farm66.staticflickr.com/65535/33978214998_ffc6f4c240_z.jpg'},\n",
              " {'id': 57,\n",
              "  'width': 2448,\n",
              "  'height': 3264,\n",
              "  'file_name': '000076.JPG',\n",
              "  'license': None,\n",
              "  'flickr_url': 'https://farm66.staticflickr.com/65535/47855518531_a63a02f6fd_o.png',\n",
              "  'coco_url': None,\n",
              "  'date_captured': None,\n",
              "  'flickr_640_url': 'https://farm66.staticflickr.com/65535/47855518531_67d63b0125_z.jpg'},\n",
              " {'id': 58,\n",
              "  'width': 2448,\n",
              "  'height': 3264,\n",
              "  'file_name': '000078.JPG',\n",
              "  'license': None,\n",
              "  'flickr_url': 'https://farm66.staticflickr.com/65535/32911411497_62842b1d69_o.png',\n",
              "  'coco_url': None,\n",
              "  'date_captured': None,\n",
              "  'flickr_640_url': 'https://farm66.staticflickr.com/65535/32911411497_217bab5be3_z.jpg'},\n",
              " {'id': 59,\n",
              "  'width': 2448,\n",
              "  'height': 3264,\n",
              "  'file_name': '000079.JPG',\n",
              "  'license': None,\n",
              "  'flickr_url': 'https://farm66.staticflickr.com/65535/47803352692_54b5e59d3d_o.png',\n",
              "  'coco_url': None,\n",
              "  'date_captured': None,\n",
              "  'flickr_640_url': 'https://farm66.staticflickr.com/65535/47803352692_c93555bf7f_z.jpg'},\n",
              " {'id': 60,\n",
              "  'width': 2448,\n",
              "  'height': 3264,\n",
              "  'file_name': '000081.JPG',\n",
              "  'license': None,\n",
              "  'flickr_url': 'https://farm66.staticflickr.com/65535/33978216968_4773411c9b_o.png',\n",
              "  'coco_url': None,\n",
              "  'date_captured': None,\n",
              "  'flickr_640_url': 'https://farm66.staticflickr.com/65535/33978216968_43333362b8_z.jpg'},\n",
              " {'id': 61,\n",
              "  'width': 2448,\n",
              "  'height': 3264,\n",
              "  'file_name': '000082.JPG',\n",
              "  'license': None,\n",
              "  'flickr_url': 'https://farm66.staticflickr.com/65535/40888903473_4237b41d59_o.png',\n",
              "  'coco_url': None,\n",
              "  'date_captured': None,\n",
              "  'flickr_640_url': 'https://farm66.staticflickr.com/65535/40888903473_da533c65e9_z.jpg'},\n",
              " {'id': 62,\n",
              "  'width': 2448,\n",
              "  'height': 3264,\n",
              "  'file_name': '000083.JPG',\n",
              "  'license': None,\n",
              "  'flickr_url': 'https://farm66.staticflickr.com/65535/33978218448_5ac8d8f9cb_o.png',\n",
              "  'coco_url': None,\n",
              "  'date_captured': None,\n",
              "  'flickr_640_url': 'https://farm66.staticflickr.com/65535/33978218448_7fa1103785_z.jpg'},\n",
              " {'id': 63,\n",
              "  'width': 2448,\n",
              "  'height': 3264,\n",
              "  'file_name': '000084.JPG',\n",
              "  'license': None,\n",
              "  'flickr_url': 'https://farm66.staticflickr.com/65535/40888905013_8b20479481_o.png',\n",
              "  'coco_url': None,\n",
              "  'date_captured': None,\n",
              "  'flickr_640_url': 'https://farm66.staticflickr.com/65535/40888905013_469a0afb11_z.jpg'},\n",
              " {'id': 64,\n",
              "  'width': 2448,\n",
              "  'height': 3264,\n",
              "  'file_name': '000085.JPG',\n",
              "  'license': None,\n",
              "  'flickr_url': 'https://farm66.staticflickr.com/65535/47066083354_b7e8968056_o.png',\n",
              "  'coco_url': None,\n",
              "  'date_captured': None,\n",
              "  'flickr_640_url': 'https://farm66.staticflickr.com/65535/47066083354_f2bfb321ce_z.jpg'},\n",
              " {'id': 65,\n",
              "  'width': 2448,\n",
              "  'height': 3264,\n",
              "  'file_name': '000086.JPG',\n",
              "  'license': None,\n",
              "  'flickr_url': 'https://farm66.staticflickr.com/65535/47855526201_eefff7144d_o.png',\n",
              "  'coco_url': None,\n",
              "  'date_captured': None,\n",
              "  'flickr_640_url': 'https://farm66.staticflickr.com/65535/47855526201_cc3099bc63_z.jpg'},\n",
              " {'id': 66,\n",
              "  'width': 2448,\n",
              "  'height': 3264,\n",
              "  'file_name': '000087.JPG',\n",
              "  'license': None,\n",
              "  'flickr_url': 'https://farm66.staticflickr.com/65535/47803356972_a3861543ff_o.png',\n",
              "  'coco_url': None,\n",
              "  'date_captured': None,\n",
              "  'flickr_640_url': 'https://farm66.staticflickr.com/65535/47803356972_ba9b520555_z.jpg'},\n",
              " {'id': 67,\n",
              "  'width': 2448,\n",
              "  'height': 3264,\n",
              "  'file_name': '000088.JPG',\n",
              "  'license': None,\n",
              "  'flickr_url': 'https://farm66.staticflickr.com/65535/47855527831_bcdc279cef_o.png',\n",
              "  'coco_url': None,\n",
              "  'date_captured': None,\n",
              "  'flickr_640_url': 'https://farm66.staticflickr.com/65535/47855527831_2048361a88_z.jpg'},\n",
              " {'id': 68,\n",
              "  'width': 2448,\n",
              "  'height': 3264,\n",
              "  'file_name': '000090.JPG',\n",
              "  'license': None,\n",
              "  'flickr_url': 'https://farm66.staticflickr.com/65535/46939272735_b8506f98ec_o.png',\n",
              "  'coco_url': None,\n",
              "  'date_captured': None,\n",
              "  'flickr_640_url': 'https://farm66.staticflickr.com/65535/46939272735_43c98a9d25_z.jpg'},\n",
              " {'id': 69,\n",
              "  'width': 3264,\n",
              "  'height': 2448,\n",
              "  'file_name': '000091.JPG',\n",
              "  'license': None,\n",
              "  'flickr_url': 'https://farm66.staticflickr.com/65535/32911419327_f4d5aa3dd4_o.png',\n",
              "  'coco_url': None,\n",
              "  'date_captured': None,\n",
              "  'flickr_640_url': 'https://farm66.staticflickr.com/65535/32911419327_14e297f69a_z.jpg'},\n",
              " {'id': 70,\n",
              "  'width': 2448,\n",
              "  'height': 3264,\n",
              "  'file_name': '000092.JPG',\n",
              "  'license': None,\n",
              "  'flickr_url': 'https://farm66.staticflickr.com/65535/40888908063_07b4c2497a_o.png',\n",
              "  'coco_url': None,\n",
              "  'date_captured': None,\n",
              "  'flickr_640_url': 'https://farm66.staticflickr.com/65535/40888908063_826a675e51_z.jpg'},\n",
              " {'id': 71,\n",
              "  'width': 2448,\n",
              "  'height': 3264,\n",
              "  'file_name': '000093.JPG',\n",
              "  'license': None,\n",
              "  'flickr_url': 'https://farm66.staticflickr.com/65535/47066085544_a1d7a34a92_o.png',\n",
              "  'coco_url': None,\n",
              "  'date_captured': None,\n",
              "  'flickr_640_url': 'https://farm66.staticflickr.com/65535/47066085544_c280701524_z.jpg'},\n",
              " {'id': 72,\n",
              "  'width': 2448,\n",
              "  'height': 3264,\n",
              "  'file_name': '000094.JPG',\n",
              "  'license': None,\n",
              "  'flickr_url': 'https://farm66.staticflickr.com/65535/33978225078_8599bddd01_o.png',\n",
              "  'coco_url': None,\n",
              "  'date_captured': None,\n",
              "  'flickr_640_url': 'https://farm66.staticflickr.com/65535/33978225078_ddc894ef40_z.jpg'},\n",
              " {'id': 73,\n",
              "  'width': 2448,\n",
              "  'height': 3264,\n",
              "  'file_name': '000095.JPG',\n",
              "  'license': None,\n",
              "  'flickr_url': 'https://farm66.staticflickr.com/65535/46939275485_e9b457ee2b_o.png',\n",
              "  'coco_url': None,\n",
              "  'date_captured': None,\n",
              "  'flickr_640_url': 'https://farm66.staticflickr.com/65535/46939275485_13483d1194_z.jpg'},\n",
              " {'id': 74,\n",
              "  'width': 2448,\n",
              "  'height': 3264,\n",
              "  'file_name': '000096.JPG',\n",
              "  'license': None,\n",
              "  'flickr_url': 'https://farm66.staticflickr.com/65535/40888909063_da6fc7e773_o.png',\n",
              "  'coco_url': None,\n",
              "  'date_captured': None,\n",
              "  'flickr_640_url': 'https://farm66.staticflickr.com/65535/40888909063_21d28281b1_z.jpg'},\n",
              " {'id': 75,\n",
              "  'width': 2448,\n",
              "  'height': 3264,\n",
              "  'file_name': '000062.JPG',\n",
              "  'license': None,\n",
              "  'flickr_url': 'https://farm66.staticflickr.com/65535/40888909583_9f9cc88433_o.png',\n",
              "  'coco_url': None,\n",
              "  'date_captured': None,\n",
              "  'flickr_640_url': 'https://farm66.staticflickr.com/65535/40888909583_82a44ac1fc_z.jpg'},\n",
              " {'id': 76,\n",
              "  'width': 2448,\n",
              "  'height': 3264,\n",
              "  'file_name': '000098.JPG',\n",
              "  'license': None,\n",
              "  'flickr_url': 'https://farm66.staticflickr.com/65535/32911423797_951996353b_o.png',\n",
              "  'coco_url': None,\n",
              "  'date_captured': None,\n",
              "  'flickr_640_url': 'https://farm66.staticflickr.com/65535/32911423797_5691c8704c_z.jpg'},\n",
              " {'id': 77,\n",
              "  'width': 2448,\n",
              "  'height': 3264,\n",
              "  'file_name': '000099.JPG',\n",
              "  'license': None,\n",
              "  'flickr_url': 'https://farm66.staticflickr.com/65535/33978227058_afb4031bde_o.png',\n",
              "  'coco_url': None,\n",
              "  'date_captured': None,\n",
              "  'flickr_640_url': 'https://farm66.staticflickr.com/65535/33978227058_6fba616329_z.jpg'},\n",
              " {'id': 78,\n",
              "  'width': 2448,\n",
              "  'height': 3264,\n",
              "  'file_name': '000064.JPG',\n",
              "  'license': None,\n",
              "  'flickr_url': 'https://farm66.staticflickr.com/65535/40888911413_308066210e_o.png',\n",
              "  'coco_url': None,\n",
              "  'date_captured': None,\n",
              "  'flickr_640_url': 'https://farm66.staticflickr.com/65535/40888911413_b4b02a0ebc_z.jpg'},\n",
              " {'id': 79,\n",
              "  'width': 2448,\n",
              "  'height': 3264,\n",
              "  'file_name': '000100.JPG',\n",
              "  'license': None,\n",
              "  'flickr_url': 'https://farm66.staticflickr.com/65535/47803365772_b2b6e880c0_o.png',\n",
              "  'coco_url': None,\n",
              "  'date_captured': None,\n",
              "  'flickr_640_url': 'https://farm66.staticflickr.com/65535/47803365772_c70114b177_z.jpg'},\n",
              " {'id': 80,\n",
              "  'width': 2448,\n",
              "  'height': 3264,\n",
              "  'file_name': '000101.JPG',\n",
              "  'license': None,\n",
              "  'flickr_url': 'https://farm66.staticflickr.com/65535/33978228348_106f1757ba_o.png',\n",
              "  'coco_url': None,\n",
              "  'date_captured': None,\n",
              "  'flickr_640_url': 'https://farm66.staticflickr.com/65535/33978228348_a10e4aa2d9_z.jpg'},\n",
              " {'id': 81,\n",
              "  'width': 2448,\n",
              "  'height': 3264,\n",
              "  'file_name': '000102.JPG',\n",
              "  'license': None,\n",
              "  'flickr_url': 'https://farm66.staticflickr.com/65535/47803367282_a0c4d52b81_o.png',\n",
              "  'coco_url': None,\n",
              "  'date_captured': None,\n",
              "  'flickr_640_url': 'https://farm66.staticflickr.com/65535/47803367282_957934fcae_z.jpg'},\n",
              " {'id': 82,\n",
              "  'width': 3264,\n",
              "  'height': 2448,\n",
              "  'file_name': '000104.JPG',\n",
              "  'license': None,\n",
              "  'flickr_url': 'https://farm66.staticflickr.com/65535/47855536111_52ebed4191_o.png',\n",
              "  'coco_url': None,\n",
              "  'date_captured': None,\n",
              "  'flickr_640_url': 'https://farm66.staticflickr.com/65535/47855536111_0d1ba44721_z.jpg'},\n",
              " {'id': 83,\n",
              "  'width': 2448,\n",
              "  'height': 3264,\n",
              "  'file_name': '000105.JPG',\n",
              "  'license': None,\n",
              "  'flickr_url': 'https://farm66.staticflickr.com/65535/46939279105_92bc3bde2b_o.png',\n",
              "  'coco_url': None,\n",
              "  'date_captured': None,\n",
              "  'flickr_640_url': 'https://farm66.staticflickr.com/65535/46939279105_e1bbce4d4b_z.jpg'},\n",
              " {'id': 84,\n",
              "  'width': 2448,\n",
              "  'height': 3264,\n",
              "  'file_name': '000106.JPG',\n",
              "  'license': None,\n",
              "  'flickr_url': 'https://farm66.staticflickr.com/65535/40888914233_25659b5165_o.png',\n",
              "  'coco_url': None,\n",
              "  'date_captured': None,\n",
              "  'flickr_640_url': 'https://farm66.staticflickr.com/65535/40888914233_4b10dc5f07_z.jpg'},\n",
              " {'id': 85,\n",
              "  'width': 2448,\n",
              "  'height': 3264,\n",
              "  'file_name': '000107.JPG',\n",
              "  'license': None,\n",
              "  'flickr_url': 'https://farm66.staticflickr.com/65535/47066092764_614d978865_o.png',\n",
              "  'coco_url': None,\n",
              "  'date_captured': None,\n",
              "  'flickr_640_url': 'https://farm66.staticflickr.com/65535/47066092764_be1f5d14de_z.jpg'},\n",
              " {'id': 86,\n",
              "  'width': 2448,\n",
              "  'height': 3264,\n",
              "  'file_name': '000108.JPG',\n",
              "  'license': None,\n",
              "  'flickr_url': 'https://farm66.staticflickr.com/65535/46939281115_e6b4bbfb1e_o.png',\n",
              "  'coco_url': None,\n",
              "  'date_captured': None,\n",
              "  'flickr_640_url': 'https://farm66.staticflickr.com/65535/46939281115_75f7cd5201_z.jpg'},\n",
              " {'id': 87,\n",
              "  'width': 2448,\n",
              "  'height': 3264,\n",
              "  'file_name': '000110.JPG',\n",
              "  'license': None,\n",
              "  'flickr_url': 'https://farm66.staticflickr.com/65535/47066094324_6b4fe2129b_o.png',\n",
              "  'coco_url': None,\n",
              "  'date_captured': None,\n",
              "  'flickr_640_url': 'https://farm66.staticflickr.com/65535/47066094324_a8d34afa4a_z.jpg'},\n",
              " {'id': 88,\n",
              "  'width': 2448,\n",
              "  'height': 3264,\n",
              "  'file_name': '000111.JPG',\n",
              "  'license': None,\n",
              "  'flickr_url': 'https://farm66.staticflickr.com/65535/33978232418_38c8bd3546_o.png',\n",
              "  'coco_url': None,\n",
              "  'date_captured': None,\n",
              "  'flickr_640_url': 'https://farm66.staticflickr.com/65535/33978232418_acc781ccb9_z.jpg'},\n",
              " {'id': 89,\n",
              "  'width': 3264,\n",
              "  'height': 2448,\n",
              "  'file_name': '000115.JPG',\n",
              "  'license': None,\n",
              "  'flickr_url': 'https://farm66.staticflickr.com/65535/47855540001_6b8eae64ab_o.png',\n",
              "  'coco_url': None,\n",
              "  'date_captured': None,\n",
              "  'flickr_640_url': 'https://farm66.staticflickr.com/65535/47855540001_64a57612f2_z.jpg'},\n",
              " {'id': 90,\n",
              "  'width': 2448,\n",
              "  'height': 3264,\n",
              "  'file_name': '000117.JPG',\n",
              "  'license': None,\n",
              "  'flickr_url': 'https://farm66.staticflickr.com/65535/40888917783_596fe7cc03_o.png',\n",
              "  'coco_url': None,\n",
              "  'date_captured': None,\n",
              "  'flickr_640_url': 'https://farm66.staticflickr.com/65535/40888917783_20df833f07_z.jpg'},\n",
              " {'id': 91,\n",
              "  'width': 2448,\n",
              "  'height': 3264,\n",
              "  'file_name': '000118.JPG',\n",
              "  'license': None,\n",
              "  'flickr_url': 'https://farm66.staticflickr.com/65535/33978233378_36b49e5916_o.png',\n",
              "  'coco_url': None,\n",
              "  'date_captured': None,\n",
              "  'flickr_640_url': 'https://farm66.staticflickr.com/65535/33978233378_fdd6f37b59_z.jpg'},\n",
              " {'id': 92,\n",
              "  'width': 2448,\n",
              "  'height': 3264,\n",
              "  'file_name': '000119.JPG',\n",
              "  'license': None,\n",
              "  'flickr_url': 'https://farm66.staticflickr.com/65535/47803374112_72010d94dd_o.png',\n",
              "  'coco_url': None,\n",
              "  'date_captured': None,\n",
              "  'flickr_640_url': 'https://farm66.staticflickr.com/65535/47803374112_025962fc37_z.jpg'},\n",
              " {'id': 93,\n",
              "  'width': 2448,\n",
              "  'height': 3264,\n",
              "  'file_name': '000120.JPG',\n",
              "  'license': None,\n",
              "  'flickr_url': 'https://farm66.staticflickr.com/65535/32911436277_8e046cc764_o.png',\n",
              "  'coco_url': None,\n",
              "  'date_captured': None,\n",
              "  'flickr_640_url': 'https://farm66.staticflickr.com/65535/32911436277_150d3aea25_z.jpg'},\n",
              " {'id': 94,\n",
              "  'width': 2448,\n",
              "  'height': 3264,\n",
              "  'file_name': '000121.JPG',\n",
              "  'license': None,\n",
              "  'flickr_url': 'https://farm66.staticflickr.com/65535/47855542611_d2f2e144cf_o.png',\n",
              "  'coco_url': None,\n",
              "  'date_captured': None,\n",
              "  'flickr_640_url': 'https://farm66.staticflickr.com/65535/47855542611_14e67897d9_z.jpg'},\n",
              " {'id': 95,\n",
              "  'width': 2448,\n",
              "  'height': 3264,\n",
              "  'file_name': '000122.JPG',\n",
              "  'license': None,\n",
              "  'flickr_url': 'https://farm66.staticflickr.com/65535/46939286705_dee200d5f2_o.png',\n",
              "  'coco_url': None,\n",
              "  'date_captured': None,\n",
              "  'flickr_640_url': 'https://farm66.staticflickr.com/65535/46939286705_9e6c0203d9_z.jpg'},\n",
              " {'id': 96,\n",
              "  'width': 1241,\n",
              "  'height': 751,\n",
              "  'file_name': '000004.jpg',\n",
              "  'license': None,\n",
              "  'flickr_url': 'https://farm66.staticflickr.com/65535/33978235498_aa4fe1aa2f_o.png',\n",
              "  'coco_url': None,\n",
              "  'date_captured': None,\n",
              "  'flickr_640_url': 'https://farm66.staticflickr.com/65535/33978235498_d9ac1f1469_z.jpg'},\n",
              " {'id': 97,\n",
              "  'width': 2448,\n",
              "  'height': 3264,\n",
              "  'file_name': '000124.JPG',\n",
              "  'license': None,\n",
              "  'flickr_url': 'https://farm66.staticflickr.com/65535/47066101104_7ee3d75591_o.png',\n",
              "  'coco_url': None,\n",
              "  'date_captured': None,\n",
              "  'flickr_640_url': 'https://farm66.staticflickr.com/65535/47066101104_0a84390b3e_z.jpg'},\n",
              " {'id': 98,\n",
              "  'width': 2448,\n",
              "  'height': 3264,\n",
              "  'file_name': '000127.JPG',\n",
              "  'license': None,\n",
              "  'flickr_url': 'https://farm66.staticflickr.com/65535/47066101834_982b3aa015_o.png',\n",
              "  'coco_url': None,\n",
              "  'date_captured': None,\n",
              "  'flickr_640_url': 'https://farm66.staticflickr.com/65535/47066101834_e59b4db06a_z.jpg'},\n",
              " {'id': 99,\n",
              "  'width': 2448,\n",
              "  'height': 3264,\n",
              "  'file_name': '000128.JPG',\n",
              "  'license': None,\n",
              "  'flickr_url': 'https://farm66.staticflickr.com/65535/40888924973_a9eca71e01_o.png',\n",
              "  'coco_url': None,\n",
              "  'date_captured': None,\n",
              "  'flickr_640_url': 'https://farm66.staticflickr.com/65535/40888924973_74cb166543_z.jpg'},\n",
              " {'id': 100,\n",
              "  'width': 2448,\n",
              "  'height': 3264,\n",
              "  'file_name': '000129.JPG',\n",
              "  'license': None,\n",
              "  'flickr_url': 'https://farm66.staticflickr.com/65535/47803377832_5a1210d333_o.png',\n",
              "  'coco_url': None,\n",
              "  'date_captured': None,\n",
              "  'flickr_640_url': 'https://farm66.staticflickr.com/65535/47803377832_105d4deeb6_z.jpg'}]"
            ]
          },
          "metadata": {},
          "execution_count": 6
        }
      ]
    },
    {
      "cell_type": "code",
      "source": [
        "import random\n",
        "\n",
        "# Get a list of image IDs\n",
        "image_ids = [image['id'] for image in taco_annotations['images']]\n",
        "\n",
        "# Determine the number of images for the validation set\n",
        "val_split = 0.2  # 20% for validation\n",
        "num_val_images = int(len(image_ids) * val_split)\n",
        "\n",
        "# Randomly shuffle the image IDs\n",
        "random.shuffle(image_ids)\n",
        "\n",
        "# Split the image IDs into training and validation sets\n",
        "train_image_ids = image_ids[num_val_images:]\n",
        "val_image_ids = image_ids[:num_val_images]\n",
        "\n",
        "# Create lists for training and validation annotations\n",
        "train_annotations = [ann for ann in taco_annotations['annotations'] if ann['image_id'] in train_image_ids]\n",
        "val_annotations = [ann for ann in taco_annotations['annotations'] if ann['image_id'] in val_image_ids]"
      ],
      "metadata": {
        "id": "0Ozs1bOnQxpI"
      },
      "execution_count": null,
      "outputs": []
    },
    {
      "cell_type": "code",
      "source": [
        "train_data = {\n",
        "    \"images\": [image for image in taco_annotations['images'] if image['id'] in train_image_ids],\n",
        "    \"annotations\": train_annotations,\n",
        "    \"categories\": taco_annotations['categories']\n",
        "}\n",
        "\n",
        "val_data = {\n",
        "    \"images\": [image for image in taco_annotations['images'] if image['id'] in val_image_ids],\n",
        "    \"annotations\": val_annotations,\n",
        "    \"categories\": taco_annotations['categories']\n",
        "}\n",
        "\n",
        "# Save the training and validation annotation files\n",
        "train_annotation_path = '/content/drive/MyDrive/DSL/2023_2/모델링 프로젝트/TACO/data/batch_1/train_annotations.json'\n",
        "val_annotation_path = '/content/drive/MyDrive/DSL/2023_2/모델링 프로젝트/TACO/data/batch_1/val_annotations.json'\n",
        "\n",
        "with open(train_annotation_path, 'w') as train_file:\n",
        "    json.dump(train_data, train_file)\n",
        "\n",
        "with open(val_annotation_path, 'w') as val_file:\n",
        "    json.dump(val_data, val_file)"
      ],
      "metadata": {
        "id": "Daq15nT7QzNg"
      },
      "execution_count": null,
      "outputs": []
    },
    {
      "cell_type": "markdown",
      "source": [
        "- images의 id = annotations의 image_id\n",
        "- category의 id = annotations의 category_id"
      ],
      "metadata": {
        "id": "nu1L0ETQ3Kh8"
      }
    },
    {
      "cell_type": "markdown",
      "source": [
        "# Data Preprocessing"
      ],
      "metadata": {
        "id": "StwAXI5mRN2h"
      }
    },
    {
      "cell_type": "code",
      "source": [
        "ANNOTATIONS_PATH = '/content/drive/MyDrive/DSL/2023_2/모델링 프로젝트/TACO/data/batch_1'\n",
        "os.listdir(ANNOTATIONS_PATH)"
      ],
      "metadata": {
        "id": "17MwzbZ_RPfi",
        "colab": {
          "base_uri": "https://localhost:8080/"
        },
        "outputId": "054a2635-c70e-4335-a043-6c018610b66c"
      },
      "execution_count": null,
      "outputs": [
        {
          "output_type": "execute_result",
          "data": {
            "text/plain": [
              "['000006.jpg',\n",
              " '000008.jpg',\n",
              " '000010.jpg',\n",
              " '000019.jpg',\n",
              " '000026.jpg',\n",
              " '000047.jpg',\n",
              " '000055.jpg',\n",
              " '000001.jpg',\n",
              " '000005.jpg',\n",
              " '000007.jpg',\n",
              " '000012.jpg',\n",
              " '000014.jpg',\n",
              " '000048.jpg',\n",
              " '000053.jpg',\n",
              " '000056.jpg',\n",
              " '000058.jpg',\n",
              " '000060.jpg',\n",
              " '000003.jpg',\n",
              " '000011.jpg',\n",
              " '000032.jpg',\n",
              " '000040.jpg',\n",
              " '000043.jpg',\n",
              " '000049.jpg',\n",
              " '000061.jpg',\n",
              " '000054.jpg',\n",
              " '000021.jpg',\n",
              " '000022.jpg',\n",
              " '000023.jpg',\n",
              " '000024.jpg',\n",
              " '000027.jpg',\n",
              " '000028.jpg',\n",
              " '000030.jpg',\n",
              " '000031.jpg',\n",
              " '000042.jpg',\n",
              " '000059.jpg',\n",
              " '000050.jpg',\n",
              " '000000.jpg',\n",
              " '000013.jpg',\n",
              " '000015.jpg',\n",
              " '000016.jpg',\n",
              " '000017.jpg',\n",
              " '000025.jpg',\n",
              " '000029.jpg',\n",
              " '000035.jpg',\n",
              " '000037.jpg',\n",
              " '000045.jpg',\n",
              " '000038.jpg',\n",
              " '000065.JPG',\n",
              " '000066.JPG',\n",
              " '000067.JPG',\n",
              " '000068.JPG',\n",
              " '000069.JPG',\n",
              " '000070.JPG',\n",
              " '000071.JPG',\n",
              " '000072.JPG',\n",
              " '000073.JPG',\n",
              " '000074.JPG',\n",
              " '000076.JPG',\n",
              " '000078.JPG',\n",
              " '000079.JPG',\n",
              " '000081.JPG',\n",
              " '000082.JPG',\n",
              " '000083.JPG',\n",
              " '000084.JPG',\n",
              " '000085.JPG',\n",
              " '000086.JPG',\n",
              " '000087.JPG',\n",
              " '000088.JPG',\n",
              " '000090.JPG',\n",
              " '000091.JPG',\n",
              " '000092.JPG',\n",
              " '000093.JPG',\n",
              " '000094.JPG',\n",
              " '000095.JPG',\n",
              " '000096.JPG',\n",
              " '000062.JPG',\n",
              " '000098.JPG',\n",
              " '000099.JPG',\n",
              " '000064.JPG',\n",
              " '000100.JPG',\n",
              " '000101.JPG',\n",
              " '000102.JPG',\n",
              " '000104.JPG',\n",
              " '000105.JPG',\n",
              " '000106.JPG',\n",
              " '000107.JPG',\n",
              " '000108.JPG',\n",
              " '000110.JPG',\n",
              " '000111.JPG',\n",
              " '000115.JPG',\n",
              " '000117.JPG',\n",
              " '000118.JPG',\n",
              " '000119.JPG',\n",
              " '000120.JPG',\n",
              " '000121.JPG',\n",
              " '000122.JPG',\n",
              " '000004.jpg',\n",
              " '000124.JPG',\n",
              " '000127.JPG',\n",
              " '000128.JPG',\n",
              " '000129.JPG',\n",
              " 'annotations.json',\n",
              " 'train_annotations.json',\n",
              " 'val_annotations.json',\n",
              " 'mask_train',\n",
              " 'mask_val',\n",
              " 'train_data',\n",
              " 'val_data']"
            ]
          },
          "metadata": {},
          "execution_count": 9
        }
      ]
    },
    {
      "cell_type": "code",
      "source": [
        "ANNOTATION_FILE_VAL = (ANNOTATIONS_PATH + '/val_annotations.json')\n",
        "ANNOTATION_FILE_TRAIN = (ANNOTATIONS_PATH + '/train_annotations.json')"
      ],
      "metadata": {
        "id": "7uVfUaPgRS92"
      },
      "execution_count": null,
      "outputs": []
    },
    {
      "cell_type": "code",
      "source": [
        "from pycocotools.coco import COCO"
      ],
      "metadata": {
        "id": "IrCGJG9_T7kH"
      },
      "execution_count": null,
      "outputs": []
    },
    {
      "cell_type": "code",
      "source": [
        "taco_train = COCO(ANNOTATION_FILE_TRAIN)\n",
        "catIds_train = taco_train.getCatIds() # Get all Categories ('horse','human' etc...)\n",
        "imgIds_train = taco_train.getImgIds() # Get all image ID's (dict with path and annotations)\n",
        "imgDict_train = taco_train.loadImgs(imgIds_train) # Func to load images from path\n",
        "print(len(imgIds_train) , len(catIds_train))"
      ],
      "metadata": {
        "colab": {
          "base_uri": "https://localhost:8080/"
        },
        "id": "BVM3JPtBSSzm",
        "outputId": "9c4be07e-07b7-4a35-948d-85bbf4cff02c"
      },
      "execution_count": null,
      "outputs": [
        {
          "output_type": "stream",
          "name": "stdout",
          "text": [
            "loading annotations into memory...\n",
            "Done (t=0.01s)\n",
            "creating index...\n",
            "index created!\n",
            "81 60\n"
          ]
        }
      ]
    },
    {
      "cell_type": "code",
      "source": [
        "taco_val = COCO(ANNOTATION_FILE_VAL)\n",
        "catIds_val =taco_val.getCatIds()\n",
        "imgIds_val =taco_val.getImgIds()\n",
        "imgDict_val =taco_val.loadImgs(imgIds_val)\n",
        "print(len(imgIds_val) , len(catIds_val))"
      ],
      "metadata": {
        "colab": {
          "base_uri": "https://localhost:8080/"
        },
        "id": "ri7pqneBUHIQ",
        "outputId": "ef627d4e-fd3c-4dc0-c181-4eae7451ee7b"
      },
      "execution_count": null,
      "outputs": [
        {
          "output_type": "stream",
          "name": "stdout",
          "text": [
            "loading annotations into memory...\n",
            "Done (t=0.01s)\n",
            "creating index...\n",
            "index created!\n",
            "20 60\n"
          ]
        }
      ]
    },
    {
      "cell_type": "code",
      "source": [
        "shuffle(imgIds_train) # randoms shuffling\n",
        "shuffle(imgIds_val) # random shuffling\n",
        "\n",
        "imgIds_train = imgIds_train[0:80]\n",
        "imgIds_val = imgIds_val[0:20]"
      ],
      "metadata": {
        "id": "AfuFEOWyUOtS"
      },
      "execution_count": null,
      "outputs": []
    },
    {
      "cell_type": "markdown",
      "source": [
        "이미지 id와 이미지 파일 이름이 같지 않으므로 이것 관련해서 체크 필요할듯!!"
      ],
      "metadata": {
        "id": "djahs49R5DBq"
      }
    },
    {
      "cell_type": "code",
      "source": [
        "train_images = [\"TACO_train_{0:012d}.jpg\".format(ids) for ids in imgIds_train]\n",
        "# keep aside train and val image names\n",
        "val_images = [\"TACO_val_{0:012d}.jpg\".format(ids) for ids in imgIds_val]\n",
        "print(len(train_images) , len(val_images))"
      ],
      "metadata": {
        "colab": {
          "base_uri": "https://localhost:8080/"
        },
        "id": "9FhBxn-EUlLq",
        "outputId": "3fa44ca6-478a-4367-abad-30459c1c7e47"
      },
      "execution_count": null,
      "outputs": [
        {
          "output_type": "stream",
          "name": "stdout",
          "text": [
            "80 20\n"
          ]
        }
      ]
    },
    {
      "cell_type": "code",
      "source": [
        "WORKING_DIR = '/content/drive/MyDrive/DSL/2023_2/모델링 프로젝트/TACO/data/batch_1'\n",
        "\n",
        "os.chdir(WORKING_DIR)"
      ],
      "metadata": {
        "id": "BeEq9jn7VA2h"
      },
      "execution_count": null,
      "outputs": []
    },
    {
      "cell_type": "code",
      "source": [
        "!mkdir mask_train"
      ],
      "metadata": {
        "id": "uiwm3tNRVHaG",
        "colab": {
          "base_uri": "https://localhost:8080/"
        },
        "outputId": "29749626-d52c-491f-9086-37ffaac70088"
      },
      "execution_count": null,
      "outputs": [
        {
          "output_type": "stream",
          "name": "stdout",
          "text": [
            "mkdir: cannot create directory ‘mask_train’: File exists\n"
          ]
        }
      ]
    },
    {
      "cell_type": "code",
      "source": [
        "count = 0\n",
        "unfitted_image_dict = []\n",
        "for ID in tqdm(imgIds_train):\n",
        "    file_path = '/content/drive/MyDrive/DSL/2023_2/모델링 프로젝트/TACO/data/batch_1/mask_train'+\"/{0:012d}.jpg\".format(ID)\n",
        "    # basic functionality is to take all masks, and create a unified mask\n",
        "    sampleImgIds =taco_train.getImgIds(imgIds = [ID])\n",
        "    sampleImgDict =taco_train.loadImgs(sampleImgIds[np.random.randint(0,len(sampleImgIds))])[0]\n",
        "    # take all annotations for all categories\n",
        "    annIds =taco_train.getAnnIds(imgIds=sampleImgDict['id'],\n",
        "                                catIds=catIds_train,\n",
        "                                iscrowd=0)\n",
        "    anns =taco_train.loadAnns(annIds)\n",
        "\n",
        "    # separating images with background as the only mask\n",
        "    if len(anns)==0:\n",
        "        unfitted_image_dict.append(sampleImgDict)\n",
        "    else:\n",
        "        mask =taco_train.annToMask(anns[0])\n",
        "        # unify all the masks provided\n",
        "        for i in (range(len(anns))):\n",
        "            mask = mask |taco_train.annToMask(anns[i])\n",
        "        mask = Image.fromarray(mask * 255 , mode = \"L\")\n",
        "        # save the mask\n",
        "        mask.save(file_path)\n",
        "        count = count + 1\n",
        "print(count)"
      ],
      "metadata": {
        "colab": {
          "base_uri": "https://localhost:8080/",
          "height": 67,
          "referenced_widgets": [
            "cab52c65ba0a457892a4d35a311b91c1",
            "2f33f9514f954477854cea94bd3bfb31",
            "0888417f08d146e3b699c41d4e7e76b1",
            "025f0829f2a042399064ce768eea5e99",
            "1584cd9d989147fd91869c905a109241",
            "f111df78861c4f1db5c676b290f1896a",
            "0d2125ed0cff4a7c99468e49fbed3776",
            "7fd7de85720d47eeb5f8cdd43f5f673f",
            "14b55f7d3e254cdb991ab539ebd21912",
            "47bd6bfe48804f8687a195f17d8d1930",
            "4b0c905a52c4431d984f6484dabef223"
          ]
        },
        "id": "qTnDu7SbVL9c",
        "outputId": "e9005159-008f-455e-bb98-3a36a58bbe4b"
      },
      "execution_count": null,
      "outputs": [
        {
          "output_type": "display_data",
          "data": {
            "text/plain": [
              "  0%|          | 0/80 [00:00<?, ?it/s]"
            ],
            "application/vnd.jupyter.widget-view+json": {
              "version_major": 2,
              "version_minor": 0,
              "model_id": "cab52c65ba0a457892a4d35a311b91c1"
            }
          },
          "metadata": {}
        },
        {
          "output_type": "stream",
          "name": "stdout",
          "text": [
            "80\n"
          ]
        }
      ]
    },
    {
      "cell_type": "code",
      "source": [
        "os.chdir(WORKING_DIR)"
      ],
      "metadata": {
        "id": "jrmKE8cGVel8"
      },
      "execution_count": null,
      "outputs": []
    },
    {
      "cell_type": "code",
      "source": [
        "!mkdir mask_val"
      ],
      "metadata": {
        "id": "_D9SxsWKbrms",
        "colab": {
          "base_uri": "https://localhost:8080/"
        },
        "outputId": "31b2c642-b6ad-427f-adc8-95fa31cd00ce"
      },
      "execution_count": null,
      "outputs": [
        {
          "output_type": "stream",
          "name": "stdout",
          "text": [
            "mkdir: cannot create directory ‘mask_val’: File exists\n"
          ]
        }
      ]
    },
    {
      "cell_type": "code",
      "source": [
        "count = 0\n",
        "unfitted_image_dict = []\n",
        "for ID in tqdm(imgIds_val):\n",
        "    file_path = '/content/drive/MyDrive/DSL/2023_2/모델링 프로젝트/TACO/data/batch_1/mask_val'+\"/{0:012d}.jpg\".format(ID)\n",
        "\n",
        "    sampleImgIds = taco_val.getImgIds(imgIds = [ID])\n",
        "    sampleImgDict = taco_val.loadImgs(sampleImgIds[np.random.randint(0,len(sampleImgIds))])[0]\n",
        "\n",
        "    annIds = taco_val.getAnnIds(imgIds=sampleImgDict['id'],\n",
        "                                catIds=catIds_val,\n",
        "                                iscrowd=0)\n",
        "    anns = taco_val.loadAnns(annIds)\n",
        "\n",
        "    if len(anns)==0:\n",
        "        unfitted_image_dict.append(sampleImgDict)\n",
        "    else:\n",
        "        mask = taco_val.annToMask(anns[0])\n",
        "\n",
        "        for i in (range(len(anns))):\n",
        "            mask = mask | taco_val.annToMask(anns[i])\n",
        "        mask = Image.fromarray(mask * 255 , mode = \"L\")\n",
        "        mask.save(file_path)\n",
        "        count = count + 1\n",
        "print(count)"
      ],
      "metadata": {
        "colab": {
          "base_uri": "https://localhost:8080/",
          "height": 67,
          "referenced_widgets": [
            "84e6e91a9fae4a5eabc08edab7c2cfe4",
            "017020dd430443d883b154514fc09c22",
            "44f31979cb2848a8a44fa0cbdf89d9c1",
            "1a7683673bc64419ae3ca7e1b2727dd0",
            "4e44ae25313c4899969a12cc2117454e",
            "09b79b5eb3434f0a83ce22e0a1b78f7e",
            "e5b45e29c88e47c5853f82dbda02d2af",
            "41c1aa01b58f483c870aa1c513882bbf",
            "cea1c73ff97646ccb887cb8d3103c449",
            "e36b9219e17f4545b6c6a552cab4f46f",
            "1c104587ade34ba984d63759981cb7bd"
          ]
        },
        "id": "Kr1olO7Cbymm",
        "outputId": "36238795-e5b5-49e7-f1b6-4f40b644fac3"
      },
      "execution_count": null,
      "outputs": [
        {
          "output_type": "display_data",
          "data": {
            "text/plain": [
              "  0%|          | 0/20 [00:00<?, ?it/s]"
            ],
            "application/vnd.jupyter.widget-view+json": {
              "version_major": 2,
              "version_minor": 0,
              "model_id": "84e6e91a9fae4a5eabc08edab7c2cfe4"
            }
          },
          "metadata": {}
        },
        {
          "output_type": "stream",
          "name": "stdout",
          "text": [
            "20\n"
          ]
        }
      ]
    },
    {
      "cell_type": "code",
      "source": [
        "os.chdir(WORKING_DIR)"
      ],
      "metadata": {
        "id": "Tv4IJY9qmAxS"
      },
      "execution_count": null,
      "outputs": []
    },
    {
      "cell_type": "code",
      "source": [
        "!mkdir train_data\n",
        "!mkdir val_data"
      ],
      "metadata": {
        "id": "nhw0fNckmAxT",
        "colab": {
          "base_uri": "https://localhost:8080/"
        },
        "outputId": "49c1659b-ae4d-482e-8959-84ca351b3e18"
      },
      "execution_count": null,
      "outputs": [
        {
          "output_type": "stream",
          "name": "stdout",
          "text": [
            "mkdir: cannot create directory ‘train_data’: File exists\n",
            "mkdir: cannot create directory ‘val_data’: File exists\n"
          ]
        }
      ]
    },
    {
      "cell_type": "code",
      "source": [
        "import shutil"
      ],
      "metadata": {
        "id": "fSYUu4ikmAxT"
      },
      "execution_count": null,
      "outputs": []
    },
    {
      "cell_type": "code",
      "source": [
        "imgIds_val"
      ],
      "metadata": {
        "colab": {
          "base_uri": "https://localhost:8080/"
        },
        "id": "5O2Ian2H54tO",
        "outputId": "79165d07-6ca0-4651-ad49-deaa0b5b6596"
      },
      "execution_count": null,
      "outputs": [
        {
          "output_type": "execute_result",
          "data": {
            "text/plain": [
              "[94, 29, 82, 2, 1, 21, 49, 71, 26, 27, 97, 6, 12, 20, 22, 74, 54, 86, 52, 37]"
            ]
          },
          "metadata": {},
          "execution_count": 30
        }
      ]
    },
    {
      "cell_type": "code",
      "source": [
        "# 원본 이미지 디렉토리\n",
        "original_image_dir = \"/content/drive/MyDrive/DSL/2023_2/모델링 프로젝트/TACO/data/batch_1\"\n",
        "\n",
        "# 대상 디렉토리\n",
        "target_dir = \"/content/drive/MyDrive/DSL/2023_2/모델링 프로젝트/TACO/data/batch_1/train_data\"\n",
        "\n",
        "# 이미지 ID 목록을 반복하면서 이미지를 복사\n",
        "for image_id in imgIds_train:\n",
        "    # 이미지 파일 이름 찾기\n",
        "    for image_info in taco_annotations['images']:\n",
        "        if image_info['id'] == image_id:\n",
        "            image_filename = image_info['file_name']\n",
        "            break\n",
        "    else:\n",
        "        print(f\"Image with ID {image_id} not found in annotations.\")\n",
        "        continue\n",
        "\n",
        "    # 원본 이미지 경로\n",
        "    source_image_path = os.path.join(original_image_dir, image_filename)\n",
        "\n",
        "    # 대상 디렉토리에 이미지 복사\n",
        "    if os.path.exists(source_image_path):\n",
        "        target_image_path = os.path.join(target_dir, \"{0:012d}.jpg\".format(image_id))\n",
        "        shutil.copy(source_image_path, target_image_path)\n",
        "        print(f\"Copied {image_filename} to {target_dir}\")\n",
        "    else:\n",
        "        print(f\"Image {image_filename} not found in {original_image_dir}\")\n",
        "\n",
        "print(\"Image copying complete.\")"
      ],
      "metadata": {
        "colab": {
          "base_uri": "https://localhost:8080/"
        },
        "id": "cbXUyY1y_5eQ",
        "outputId": "d93307ae-997f-4622-c6f8-39c9de492c2c"
      },
      "execution_count": null,
      "outputs": [
        {
          "output_type": "stream",
          "name": "stdout",
          "text": [
            "Copied 000082.JPG to /content/drive/MyDrive/DSL/2023_2/모델링 프로젝트/TACO/data/batch_1/train_data\n",
            "Copied 000127.JPG to /content/drive/MyDrive/DSL/2023_2/모델링 프로젝트/TACO/data/batch_1/train_data\n",
            "Copied 000026.jpg to /content/drive/MyDrive/DSL/2023_2/모델링 프로젝트/TACO/data/batch_1/train_data\n",
            "Copied 000068.JPG to /content/drive/MyDrive/DSL/2023_2/모델링 프로젝트/TACO/data/batch_1/train_data\n",
            "Copied 000035.jpg to /content/drive/MyDrive/DSL/2023_2/모델링 프로젝트/TACO/data/batch_1/train_data\n",
            "Copied 000038.jpg to /content/drive/MyDrive/DSL/2023_2/모델링 프로젝트/TACO/data/batch_1/train_data\n",
            "Copied 000021.jpg to /content/drive/MyDrive/DSL/2023_2/모델링 프로젝트/TACO/data/batch_1/train_data\n",
            "Copied 000000.jpg to /content/drive/MyDrive/DSL/2023_2/모델링 프로젝트/TACO/data/batch_1/train_data\n",
            "Copied 000017.jpg to /content/drive/MyDrive/DSL/2023_2/모델링 프로젝트/TACO/data/batch_1/train_data\n",
            "Copied 000102.JPG to /content/drive/MyDrive/DSL/2023_2/모델링 프로젝트/TACO/data/batch_1/train_data\n",
            "Copied 000094.JPG to /content/drive/MyDrive/DSL/2023_2/모델링 프로젝트/TACO/data/batch_1/train_data\n",
            "Copied 000098.JPG to /content/drive/MyDrive/DSL/2023_2/모델링 프로젝트/TACO/data/batch_1/train_data\n",
            "Copied 000105.JPG to /content/drive/MyDrive/DSL/2023_2/모델링 프로젝트/TACO/data/batch_1/train_data\n",
            "Copied 000084.JPG to /content/drive/MyDrive/DSL/2023_2/모델링 프로젝트/TACO/data/batch_1/train_data\n",
            "Copied 000069.JPG to /content/drive/MyDrive/DSL/2023_2/모델링 프로젝트/TACO/data/batch_1/train_data\n",
            "Copied 000066.JPG to /content/drive/MyDrive/DSL/2023_2/모델링 프로젝트/TACO/data/batch_1/train_data\n",
            "Copied 000005.jpg to /content/drive/MyDrive/DSL/2023_2/모델링 프로젝트/TACO/data/batch_1/train_data\n",
            "Copied 000106.JPG to /content/drive/MyDrive/DSL/2023_2/모델링 프로젝트/TACO/data/batch_1/train_data\n",
            "Copied 000085.JPG to /content/drive/MyDrive/DSL/2023_2/모델링 프로젝트/TACO/data/batch_1/train_data\n",
            "Copied 000117.JPG to /content/drive/MyDrive/DSL/2023_2/모델링 프로젝트/TACO/data/batch_1/train_data\n",
            "Copied 000071.JPG to /content/drive/MyDrive/DSL/2023_2/모델링 프로젝트/TACO/data/batch_1/train_data\n",
            "Copied 000115.JPG to /content/drive/MyDrive/DSL/2023_2/모델링 프로젝트/TACO/data/batch_1/train_data\n",
            "Copied 000025.jpg to /content/drive/MyDrive/DSL/2023_2/모델링 프로젝트/TACO/data/batch_1/train_data\n",
            "Copied 000004.jpg to /content/drive/MyDrive/DSL/2023_2/모델링 프로젝트/TACO/data/batch_1/train_data\n",
            "Copied 000120.JPG to /content/drive/MyDrive/DSL/2023_2/모델링 프로젝트/TACO/data/batch_1/train_data\n",
            "Copied 000083.JPG to /content/drive/MyDrive/DSL/2023_2/모델링 프로젝트/TACO/data/batch_1/train_data\n",
            "Copied 000006.jpg to /content/drive/MyDrive/DSL/2023_2/모델링 프로젝트/TACO/data/batch_1/train_data\n",
            "Copied 000056.jpg to /content/drive/MyDrive/DSL/2023_2/모델링 프로젝트/TACO/data/batch_1/train_data\n",
            "Copied 000095.JPG to /content/drive/MyDrive/DSL/2023_2/모델링 프로젝트/TACO/data/batch_1/train_data\n",
            "Copied 000058.jpg to /content/drive/MyDrive/DSL/2023_2/모델링 프로젝트/TACO/data/batch_1/train_data\n",
            "Copied 000090.JPG to /content/drive/MyDrive/DSL/2023_2/모델링 프로젝트/TACO/data/batch_1/train_data\n",
            "Copied 000012.jpg to /content/drive/MyDrive/DSL/2023_2/모델링 프로젝트/TACO/data/batch_1/train_data\n",
            "Copied 000015.jpg to /content/drive/MyDrive/DSL/2023_2/모델링 프로젝트/TACO/data/batch_1/train_data\n",
            "Copied 000062.JPG to /content/drive/MyDrive/DSL/2023_2/모델링 프로젝트/TACO/data/batch_1/train_data\n",
            "Copied 000119.JPG to /content/drive/MyDrive/DSL/2023_2/모델링 프로젝트/TACO/data/batch_1/train_data\n",
            "Copied 000031.jpg to /content/drive/MyDrive/DSL/2023_2/모델링 프로젝트/TACO/data/batch_1/train_data\n",
            "Copied 000007.jpg to /content/drive/MyDrive/DSL/2023_2/모델링 프로젝트/TACO/data/batch_1/train_data\n",
            "Copied 000029.jpg to /content/drive/MyDrive/DSL/2023_2/모델링 프로젝트/TACO/data/batch_1/train_data\n",
            "Copied 000111.JPG to /content/drive/MyDrive/DSL/2023_2/모델링 프로젝트/TACO/data/batch_1/train_data\n",
            "Copied 000042.jpg to /content/drive/MyDrive/DSL/2023_2/모델링 프로젝트/TACO/data/batch_1/train_data\n",
            "Copied 000110.JPG to /content/drive/MyDrive/DSL/2023_2/모델링 프로젝트/TACO/data/batch_1/train_data\n",
            "Copied 000032.jpg to /content/drive/MyDrive/DSL/2023_2/모델링 프로젝트/TACO/data/batch_1/train_data\n",
            "Copied 000076.JPG to /content/drive/MyDrive/DSL/2023_2/모델링 프로젝트/TACO/data/batch_1/train_data\n",
            "Copied 000129.JPG to /content/drive/MyDrive/DSL/2023_2/모델링 프로젝트/TACO/data/batch_1/train_data\n",
            "Copied 000064.JPG to /content/drive/MyDrive/DSL/2023_2/모델링 프로젝트/TACO/data/batch_1/train_data\n",
            "Copied 000099.JPG to /content/drive/MyDrive/DSL/2023_2/모델링 프로젝트/TACO/data/batch_1/train_data\n",
            "Copied 000081.JPG to /content/drive/MyDrive/DSL/2023_2/모델링 프로젝트/TACO/data/batch_1/train_data\n",
            "Copied 000003.jpg to /content/drive/MyDrive/DSL/2023_2/모델링 프로젝트/TACO/data/batch_1/train_data\n",
            "Copied 000030.jpg to /content/drive/MyDrive/DSL/2023_2/모델링 프로젝트/TACO/data/batch_1/train_data\n",
            "Copied 000014.jpg to /content/drive/MyDrive/DSL/2023_2/모델링 프로젝트/TACO/data/batch_1/train_data\n",
            "Copied 000001.jpg to /content/drive/MyDrive/DSL/2023_2/모델링 프로젝트/TACO/data/batch_1/train_data\n",
            "Copied 000016.jpg to /content/drive/MyDrive/DSL/2023_2/모델링 프로젝트/TACO/data/batch_1/train_data\n",
            "Copied 000045.jpg to /content/drive/MyDrive/DSL/2023_2/모델링 프로젝트/TACO/data/batch_1/train_data\n",
            "Copied 000059.jpg to /content/drive/MyDrive/DSL/2023_2/모델링 프로젝트/TACO/data/batch_1/train_data\n",
            "Copied 000100.JPG to /content/drive/MyDrive/DSL/2023_2/모델링 프로젝트/TACO/data/batch_1/train_data\n",
            "Copied 000107.JPG to /content/drive/MyDrive/DSL/2023_2/모델링 프로젝트/TACO/data/batch_1/train_data\n",
            "Copied 000079.JPG to /content/drive/MyDrive/DSL/2023_2/모델링 프로젝트/TACO/data/batch_1/train_data\n",
            "Copied 000088.JPG to /content/drive/MyDrive/DSL/2023_2/모델링 프로젝트/TACO/data/batch_1/train_data\n",
            "Copied 000061.jpg to /content/drive/MyDrive/DSL/2023_2/모델링 프로젝트/TACO/data/batch_1/train_data\n",
            "Copied 000019.jpg to /content/drive/MyDrive/DSL/2023_2/모델링 프로젝트/TACO/data/batch_1/train_data\n",
            "Copied 000086.JPG to /content/drive/MyDrive/DSL/2023_2/모델링 프로젝트/TACO/data/batch_1/train_data\n",
            "Copied 000050.jpg to /content/drive/MyDrive/DSL/2023_2/모델링 프로젝트/TACO/data/batch_1/train_data\n",
            "Copied 000053.jpg to /content/drive/MyDrive/DSL/2023_2/모델링 프로젝트/TACO/data/batch_1/train_data\n",
            "Copied 000118.JPG to /content/drive/MyDrive/DSL/2023_2/모델링 프로젝트/TACO/data/batch_1/train_data\n",
            "Copied 000047.jpg to /content/drive/MyDrive/DSL/2023_2/모델링 프로젝트/TACO/data/batch_1/train_data\n",
            "Copied 000101.JPG to /content/drive/MyDrive/DSL/2023_2/모델링 프로젝트/TACO/data/batch_1/train_data\n",
            "Copied 000087.JPG to /content/drive/MyDrive/DSL/2023_2/모델링 프로젝트/TACO/data/batch_1/train_data\n",
            "Copied 000092.JPG to /content/drive/MyDrive/DSL/2023_2/모델링 프로젝트/TACO/data/batch_1/train_data\n",
            "Copied 000065.JPG to /content/drive/MyDrive/DSL/2023_2/모델링 프로젝트/TACO/data/batch_1/train_data\n",
            "Copied 000074.JPG to /content/drive/MyDrive/DSL/2023_2/모델링 프로젝트/TACO/data/batch_1/train_data\n",
            "Copied 000091.JPG to /content/drive/MyDrive/DSL/2023_2/모델링 프로젝트/TACO/data/batch_1/train_data\n",
            "Copied 000128.JPG to /content/drive/MyDrive/DSL/2023_2/모델링 프로젝트/TACO/data/batch_1/train_data\n",
            "Copied 000037.jpg to /content/drive/MyDrive/DSL/2023_2/모델링 프로젝트/TACO/data/batch_1/train_data\n",
            "Copied 000122.JPG to /content/drive/MyDrive/DSL/2023_2/모델링 프로젝트/TACO/data/batch_1/train_data\n",
            "Copied 000060.jpg to /content/drive/MyDrive/DSL/2023_2/모델링 프로젝트/TACO/data/batch_1/train_data\n",
            "Copied 000011.jpg to /content/drive/MyDrive/DSL/2023_2/모델링 프로젝트/TACO/data/batch_1/train_data\n",
            "Copied 000054.jpg to /content/drive/MyDrive/DSL/2023_2/모델링 프로젝트/TACO/data/batch_1/train_data\n",
            "Copied 000078.JPG to /content/drive/MyDrive/DSL/2023_2/모델링 프로젝트/TACO/data/batch_1/train_data\n",
            "Copied 000073.JPG to /content/drive/MyDrive/DSL/2023_2/모델링 프로젝트/TACO/data/batch_1/train_data\n",
            "Copied 000028.jpg to /content/drive/MyDrive/DSL/2023_2/모델링 프로젝트/TACO/data/batch_1/train_data\n",
            "Image copying complete.\n"
          ]
        }
      ]
    },
    {
      "cell_type": "code",
      "source": [
        "# 원본 이미지 디렉토리\n",
        "original_image_dir = \"/content/drive/MyDrive/DSL/2023_2/모델링 프로젝트/TACO/data/batch_1\"\n",
        "\n",
        "# 대상 디렉토리\n",
        "target_dir = \"/content/drive/MyDrive/DSL/2023_2/모델링 프로젝트/TACO/data/batch_1/val_data\"\n",
        "\n",
        "# 이미지 ID 목록을 반복하면서 이미지를 복사\n",
        "for image_id in imgIds_val:\n",
        "    # 이미지 파일 이름 찾기\n",
        "    for image_info in taco_annotations['images']:\n",
        "        if image_info['id'] == image_id:\n",
        "            image_filename = image_info['file_name']\n",
        "            break\n",
        "    else:\n",
        "        print(f\"Image with ID {image_id} not found in annotations.\")\n",
        "        continue\n",
        "\n",
        "    # 원본 이미지 경로\n",
        "    source_image_path = os.path.join(original_image_dir, image_filename)\n",
        "\n",
        "    # 대상 디렉토리에 이미지 복사\n",
        "    if os.path.exists(source_image_path):\n",
        "        target_image_path = os.path.join(target_dir, \"{0:012d}.jpg\".format(image_id))\n",
        "        shutil.copy(source_image_path, target_image_path)\n",
        "        print(f\"Copied {image_filename} to {target_dir}\")\n",
        "    else:\n",
        "        print(f\"Image {image_filename} not found in {original_image_dir}\")\n",
        "\n",
        "print(\"Image copying complete.\")"
      ],
      "metadata": {
        "colab": {
          "base_uri": "https://localhost:8080/"
        },
        "id": "lhlr1k9l___4",
        "outputId": "a6ed9fea-ea59-4d26-f565-910b64a3d205"
      },
      "execution_count": null,
      "outputs": [
        {
          "output_type": "stream",
          "name": "stdout",
          "text": [
            "Copied 000121.JPG to /content/drive/MyDrive/DSL/2023_2/모델링 프로젝트/TACO/data/batch_1/val_data\n",
            "Copied 000027.jpg to /content/drive/MyDrive/DSL/2023_2/모델링 프로젝트/TACO/data/batch_1/val_data\n",
            "Copied 000104.JPG to /content/drive/MyDrive/DSL/2023_2/모델링 프로젝트/TACO/data/batch_1/val_data\n",
            "Copied 000010.jpg to /content/drive/MyDrive/DSL/2023_2/모델링 프로젝트/TACO/data/batch_1/val_data\n",
            "Copied 000008.jpg to /content/drive/MyDrive/DSL/2023_2/모델링 프로젝트/TACO/data/batch_1/val_data\n",
            "Copied 000043.jpg to /content/drive/MyDrive/DSL/2023_2/모델링 프로젝트/TACO/data/batch_1/val_data\n",
            "Copied 000067.JPG to /content/drive/MyDrive/DSL/2023_2/모델링 프로젝트/TACO/data/batch_1/val_data\n",
            "Copied 000093.JPG to /content/drive/MyDrive/DSL/2023_2/모델링 프로젝트/TACO/data/batch_1/val_data\n",
            "Copied 000022.jpg to /content/drive/MyDrive/DSL/2023_2/모델링 프로젝트/TACO/data/batch_1/val_data\n",
            "Copied 000023.jpg to /content/drive/MyDrive/DSL/2023_2/모델링 프로젝트/TACO/data/batch_1/val_data\n",
            "Copied 000124.JPG to /content/drive/MyDrive/DSL/2023_2/모델링 프로젝트/TACO/data/batch_1/val_data\n",
            "Copied 000055.jpg to /content/drive/MyDrive/DSL/2023_2/모델링 프로젝트/TACO/data/batch_1/val_data\n",
            "Copied 000048.jpg to /content/drive/MyDrive/DSL/2023_2/모델링 프로젝트/TACO/data/batch_1/val_data\n",
            "Copied 000040.jpg to /content/drive/MyDrive/DSL/2023_2/모델링 프로젝트/TACO/data/batch_1/val_data\n",
            "Copied 000049.jpg to /content/drive/MyDrive/DSL/2023_2/모델링 프로젝트/TACO/data/batch_1/val_data\n",
            "Copied 000096.JPG to /content/drive/MyDrive/DSL/2023_2/모델링 프로젝트/TACO/data/batch_1/val_data\n",
            "Copied 000072.JPG to /content/drive/MyDrive/DSL/2023_2/모델링 프로젝트/TACO/data/batch_1/val_data\n",
            "Copied 000108.JPG to /content/drive/MyDrive/DSL/2023_2/모델링 프로젝트/TACO/data/batch_1/val_data\n",
            "Copied 000070.JPG to /content/drive/MyDrive/DSL/2023_2/모델링 프로젝트/TACO/data/batch_1/val_data\n",
            "Copied 000013.jpg to /content/drive/MyDrive/DSL/2023_2/모델링 프로젝트/TACO/data/batch_1/val_data\n",
            "Image copying complete.\n"
          ]
        }
      ]
    },
    {
      "cell_type": "markdown",
      "source": [
        "# Data Loader"
      ],
      "metadata": {
        "id": "GLfogdzjb8WS"
      }
    },
    {
      "cell_type": "code",
      "source": [
        "r1 = random.randint(0, 1)\n",
        "r1"
      ],
      "metadata": {
        "colab": {
          "base_uri": "https://localhost:8080/"
        },
        "id": "kaQy4Vvlb9pR",
        "outputId": "07ecc6dd-a1e9-4121-c678-a845da41538b"
      },
      "execution_count": null,
      "outputs": [
        {
          "output_type": "execute_result",
          "data": {
            "text/plain": [
              "0"
            ]
          },
          "metadata": {},
          "execution_count": 55
        }
      ]
    },
    {
      "cell_type": "code",
      "source": [
        "class DataGen(keras.utils.Sequence):\n",
        "    def __init__(self , path_input , path_mask , batch_size = 8 , image_size = 128):\n",
        "        self.ids = os.listdir(path_mask) # only take those images that we have segregated masks of\n",
        "        self.path_input = path_input\n",
        "        self.path_mask = path_mask\n",
        "        self.batch_size = batch_size\n",
        "        self.image_size = image_size\n",
        "        self.on_epoch_end()\n",
        "\n",
        "    def __load__(self , id_name):\n",
        "        image_path = os.path.join(self.path_input , id_name)\n",
        "        mask_path = os.path.join(self.path_mask , id_name)\n",
        "        image = cv2.imread(image_path , 1) # 1 specifies RGB format\n",
        "        image = cv2.resize(image , (self.image_size , self.image_size)) # resizing before inserting to the network\n",
        "        mask = cv2.imread(mask_path , -1) # loads image with all channels\n",
        "        mask = cv2.resize(mask , (self.image_size , self.image_size))\n",
        "        mask = mask.reshape((self.image_size , self.image_size , 1))\n",
        "        # normalize image\n",
        "#         image = image / 255.0\n",
        "        mask = mask / 255.0\n",
        "        return image , mask\n",
        "\n",
        "    def __getitem__(self , index):\n",
        "        # used to create the last\n",
        "        if (index + 1)*self.batch_size > len(self.ids):\n",
        "            self.batch_size = len(self.ids) - index * self.batch_size\n",
        "        file_batch = self.ids[index * self.batch_size : (index + 1) * self.batch_size]\n",
        "        images = []\n",
        "        masks = []\n",
        "\n",
        "        # Function to normalize image\n",
        "        def normalize_image(image, mean, std):\n",
        "            for channel in range(3):\n",
        "                image[:,:,channel] = (image[:,:,channel] - mean[channel]) / std[channel]\n",
        "            return image\n",
        "\n",
        "        # Function to add horizontal flips\n",
        "        def horizontal_flip(image,mask):\n",
        "            r = random.randint(0,1)\n",
        "            image = image\n",
        "            mask = mask\n",
        "            if (r==1):\n",
        "                image = np.fliplr(image)\n",
        "                mask = np.fliplr(mask)\n",
        "            return image,mask\n",
        "\n",
        "        # We can add more augmentations for example\n",
        "\n",
        "\n",
        "        for id_name in file_batch :\n",
        "            # protected variables\n",
        "            _img , _mask = self.__load__(id_name)\n",
        "            # normalize the image using weights per ImageNet precalculated weights\n",
        "            _img = normalize_image(np.array(_img) / 255.0,\n",
        "                                      mean=[0.485, 0.456, 0.406],\n",
        "                                      std=[0.229, 0.224, 0.225])\n",
        "            # randomly horizontal flip image\n",
        "            _img,_mask = horizontal_flip(_img,_mask)\n",
        "\n",
        "            images.append(_img)\n",
        "            masks.append(_mask)\n",
        "\n",
        "        images = np.array(images)\n",
        "        masks = np.array(masks)\n",
        "        return images , masks\n",
        "\n",
        "    def on_epoch_end(self):\n",
        "        pass\n",
        "    def __len__(self):\n",
        "        return int(np.ceil(len(self.ids) / float(self.batch_size)))"
      ],
      "metadata": {
        "id": "7zPT-hlvcW_m"
      },
      "execution_count": null,
      "outputs": []
    },
    {
      "cell_type": "code",
      "source": [
        "# use image size 128 for better results\n",
        "image_size = 128\n",
        "epochs = 10\n",
        "batch_size = 10"
      ],
      "metadata": {
        "id": "56Mh3L0Beb0D"
      },
      "execution_count": null,
      "outputs": []
    },
    {
      "cell_type": "code",
      "source": [
        "train_gen = DataGen(path_input = '/content/drive/MyDrive/DSL/2023_2/모델링 프로젝트/TACO/data/batch_1/train_data' , path_mask = '/content/drive/MyDrive/DSL/2023_2/모델링 프로젝트/TACO/data/batch_1/mask_train' , batch_size = batch_size , image_size = image_size)\n",
        "val_gen = DataGen(path_input =  '/content/drive/MyDrive/DSL/2023_2/모델링 프로젝트/TACO/data/batch_1/val_data', path_mask =  '/content/drive/MyDrive/DSL/2023_2/모델링 프로젝트/TACO/data/batch_1/mask_val', batch_size = batch_size , image_size = image_size)"
      ],
      "metadata": {
        "id": "y1xbP82-edzQ"
      },
      "execution_count": null,
      "outputs": []
    },
    {
      "cell_type": "code",
      "source": [
        "x, y = val_gen.__getitem__(12)"
      ],
      "metadata": {
        "id": "FluS2lkklY7F"
      },
      "execution_count": null,
      "outputs": []
    },
    {
      "cell_type": "code",
      "source": [
        "plt.imshow(x[1]) # just an example to show that the dataloader is working fine"
      ],
      "metadata": {
        "colab": {
          "base_uri": "https://localhost:8080/",
          "height": 184
        },
        "id": "WVts0M2plZq_",
        "outputId": "8c2b8ca7-e834-4d35-9fd5-79b983df2970"
      },
      "execution_count": null,
      "outputs": [
        {
          "output_type": "error",
          "ename": "IndexError",
          "evalue": "ignored",
          "traceback": [
            "\u001b[0;31m---------------------------------------------------------------------------\u001b[0m",
            "\u001b[0;31mIndexError\u001b[0m                                Traceback (most recent call last)",
            "\u001b[0;32m<ipython-input-61-14b7c345af52>\u001b[0m in \u001b[0;36m<cell line: 1>\u001b[0;34m()\u001b[0m\n\u001b[0;32m----> 1\u001b[0;31m \u001b[0mplt\u001b[0m\u001b[0;34m.\u001b[0m\u001b[0mimshow\u001b[0m\u001b[0;34m(\u001b[0m\u001b[0mx\u001b[0m\u001b[0;34m[\u001b[0m\u001b[0;36m1\u001b[0m\u001b[0;34m]\u001b[0m\u001b[0;34m)\u001b[0m \u001b[0;31m# just an example to show that the dataloader is working fine\u001b[0m\u001b[0;34m\u001b[0m\u001b[0;34m\u001b[0m\u001b[0m\n\u001b[0m",
            "\u001b[0;31mIndexError\u001b[0m: index 1 is out of bounds for axis 0 with size 0"
          ]
        }
      ]
    },
    {
      "cell_type": "code",
      "source": [],
      "metadata": {
        "id": "9KZsHfJfluDA"
      },
      "execution_count": null,
      "outputs": []
    },
    {
      "cell_type": "markdown",
      "source": [
        "# Data Loader by GPT"
      ],
      "metadata": {
        "id": "kMt1Zd6_EvRI"
      }
    },
    {
      "cell_type": "code",
      "source": [
        "import os\n",
        "import numpy as np\n",
        "import cv2\n",
        "import tensorflow as tf\n",
        "from tensorflow.keras.utils import Sequence\n",
        "from tensorflow.keras.preprocessing.image import ImageDataGenerator\n",
        "\n",
        "class DataGenerator(Sequence):\n",
        "    def __init__(self, image_dir, mask_dir, batch_size, image_size, shuffle=True):\n",
        "        self.image_paths = [os.path.join(image_dir, fname) for fname in os.listdir(image_dir)]\n",
        "        self.mask_paths = [os.path.join(mask_dir, fname) for fname in os.listdir(mask_dir)]\n",
        "        self.batch_size = batch_size\n",
        "        self.image_size = image_size\n",
        "        self.shuffle = shuffle\n",
        "        self.indexes = np.arange(len(self.image_paths))\n",
        "\n",
        "        # Data augmentation for images\n",
        "        self.image_data_gen = ImageDataGenerator(\n",
        "            rotation_range=15,\n",
        "            width_shift_range=0.1,\n",
        "            height_shift_range=0.1,\n",
        "            shear_range=0.1,\n",
        "            zoom_range=0.1,\n",
        "            horizontal_flip=True,\n",
        "            fill_mode='reflect'\n",
        "        )\n",
        "\n",
        "        self.on_epoch_end()\n",
        "\n",
        "    def __len__(self):\n",
        "        return int(np.ceil(len(self.image_paths) / self.batch_size))\n",
        "\n",
        "    def __getitem__(self, index):\n",
        "        indexes = self.indexes[index * self.batch_size : (index + 1) * self.batch_size]\n",
        "        batch_image_paths = [self.image_paths[i] for i in indexes]\n",
        "        batch_mask_paths = [self.mask_paths[i] for i in indexes]\n",
        "\n",
        "        X, y = self.__data_generation(batch_image_paths, batch_mask_paths)\n",
        "\n",
        "        return X, y\n",
        "\n",
        "    def on_epoch_end(self):\n",
        "        if self.shuffle:\n",
        "            np.random.shuffle(self.indexes)\n",
        "\n",
        "\n",
        "    def __data_generation(self, batch_image_paths, batch_mask_paths):\n",
        "        X = np.empty((self.batch_size, *self.image_size, 3))\n",
        "        y = np.empty((self.batch_size, *self.image_size, 1))\n",
        "\n",
        "        for i in range(len(batch_image_paths)):\n",
        "            image = cv2.imread(batch_image_paths[i])\n",
        "            mask = cv2.imread(batch_mask_paths[i], cv2.IMREAD_GRAYSCALE)\n",
        "\n",
        "        # Resize image and mask to target size\n",
        "            image = cv2.resize(image, self.image_size)\n",
        "            mask = cv2.resize(mask, self.image_size)\n",
        "\n",
        "        # Data augmentation\n",
        "            seed = np.random.randint(0, 9999)\n",
        "            image = self.image_data_gen.random_transform(image, seed=seed)\n",
        "            mask = self.image_data_gen.random_transform(mask[..., np.newaxis], seed=seed)  # Add an extra dimension\n",
        "\n",
        "            X[i] = image / 255.0\n",
        "            y[i] = mask / 255.0  # Assign the modified mask to y\n",
        "\n",
        "        return X, y"
      ],
      "metadata": {
        "id": "DjFE4wFhGWKN"
      },
      "execution_count": null,
      "outputs": []
    },
    {
      "cell_type": "code",
      "source": [
        "import matplotlib.pyplot as plt\n",
        "\n",
        "# Create a data generator for visualization\n",
        "visualization_generator = DataGen(\n",
        "    path_input='/content/drive/MyDrive/DSL/2023_2/모델링 프로젝트/TACO/data/batch_1/train_data',\n",
        "    path_mask='/content/drive/MyDrive/DSL/2023_2/모델링 프로젝트/TACO/data/batch_1/mask_train',\n",
        "    batch_size=4,  # Choose the batch size you want to visualize\n",
        "    image_size=128,  # Use the same image size as your data generator\n",
        ")\n",
        "\n",
        "# Get a batch of images and masks\n",
        "batch_images, batch_masks = visualization_generator[0]\n",
        "\n",
        "# Visualize the batch\n",
        "plt.figure(figsize=(12, 6))\n",
        "\n",
        "for i in range(4):  # Change this to match your batch size\n",
        "    plt.subplot(4, 2, i * 2 + 1)\n",
        "    plt.imshow(batch_images[i])\n",
        "    plt.title(f\"Image {i + 1}\")\n",
        "    plt.axis(\"off\")\n",
        "\n",
        "    plt.subplot(4, 2, i * 2 + 2)\n",
        "    plt.imshow(batch_masks[i].squeeze(), cmap=\"gray\")  # Squeeze the mask to remove the single-channel dimension\n",
        "    plt.title(f\"Mask {i + 1}\")\n",
        "    plt.axis(\"off\")\n",
        "\n",
        "plt.tight_layout()\n",
        "plt.show()"
      ],
      "metadata": {
        "colab": {
          "base_uri": "https://localhost:8080/",
          "height": 680
        },
        "id": "Dh91CAiUFMGu",
        "outputId": "afb5d0bf-f9db-474f-9d53-b37f4f34cd2b"
      },
      "execution_count": null,
      "outputs": [
        {
          "output_type": "stream",
          "name": "stderr",
          "text": [
            "WARNING:matplotlib.image:Clipping input data to the valid range for imshow with RGB data ([0..1] for floats or [0..255] for integers).\n",
            "WARNING:matplotlib.image:Clipping input data to the valid range for imshow with RGB data ([0..1] for floats or [0..255] for integers).\n",
            "WARNING:matplotlib.image:Clipping input data to the valid range for imshow with RGB data ([0..1] for floats or [0..255] for integers).\n",
            "WARNING:matplotlib.image:Clipping input data to the valid range for imshow with RGB data ([0..1] for floats or [0..255] for integers).\n"
          ]
        },
        {
          "output_type": "display_data",
          "data": {
            "text/plain": [
              "<Figure size 1200x600 with 8 Axes>"
            ],
            "image/png": "[encoded data removed]"
          },
          "metadata": {}
        }
      ]
    },
    {
      "cell_type": "markdown",
      "source": [
        "# Model"
      ],
      "metadata": {
        "id": "06dv69hSFcTQ"
      }
    },
    {
      "cell_type": "code",
      "source": [
        "from tensorflow.keras.models import Model\n",
        "from tensorflow.keras.layers import Input, Conv2D, MaxPooling2D, UpSampling2D, concatenate\n",
        "\n",
        "def unet(input_shape):\n",
        "    inputs = Input(input_shape)\n",
        "\n",
        "    # Encoder\n",
        "    conv1 = Conv2D(64, 3, activation='relu', padding='same')(inputs)\n",
        "    conv1 = Conv2D(64, 3, activation='relu', padding='same')(conv1)\n",
        "    pool1 = MaxPooling2D(pool_size=(2, 2))(conv1)\n",
        "\n",
        "    conv2 = Conv2D(128, 3, activation='relu', padding='same')(pool1)\n",
        "    conv2 = Conv2D(128, 3, activation='relu', padding='same')(conv2)\n",
        "    pool2 = MaxPooling2D(pool_size=(2, 2))(conv2)\n",
        "\n",
        "    # Middle\n",
        "    conv3 = Conv2D(256, 3, activation='relu', padding='same')(pool2)\n",
        "    conv3 = Conv2D(256, 3, activation='relu', padding='same')(conv3)\n",
        "\n",
        "    # Decoder\n",
        "    up4 = UpSampling2D(size=(2, 2))(conv3)\n",
        "    up4 = concatenate([up4, conv2], axis=-1)\n",
        "    conv4 = Conv2D(128, 3, activation='relu', padding='same')(up4)\n",
        "    conv4 = Conv2D(128, 3, activation='relu', padding='same')(conv4)\n",
        "\n",
        "    up5 = UpSampling2D(size=(2, 2))(conv4)\n",
        "    up5 = concatenate([up5, conv1], axis=-1)\n",
        "    conv5 = Conv2D(64, 3, activation='relu', padding='same')(up5)\n",
        "    conv5 = Conv2D(64, 3, activation='relu', padding='same')(conv5)\n",
        "\n",
        "    outputs = Conv2D(1, 1, activation='sigmoid')(conv5)\n",
        "\n",
        "    model = Model(inputs, outputs)\n",
        "    return model"
      ],
      "metadata": {
        "id": "OgnEHhjJFdtq"
      },
      "execution_count": null,
      "outputs": []
    },
    {
      "cell_type": "markdown",
      "source": [
        "#Train"
      ],
      "metadata": {
        "id": "2EbfKqwEFgIt"
      }
    },
    {
      "cell_type": "code",
      "source": [
        "# Define image and mask directories\n",
        "train_image_dir = \"/content/drive/MyDrive/DSL/2023_2/모델링 프로젝트/TACO/data/batch_1/train_data\"\n",
        "train_mask_dir = \"/content/drive/MyDrive/DSL/2023_2/모델링 프로젝트/TACO/data/batch_1/mask_train\"\n",
        "val_image_dir = \"/content/drive/MyDrive/DSL/2023_2/모델링 프로젝트/TACO/data/batch_1/val_data\"\n",
        "val_mask_dir = \"/content/drive/MyDrive/DSL/2023_2/모델링 프로젝트/TACO/data/batch_1/mask_val\"\n",
        "\n",
        "# Define input image size\n",
        "input_shape = (128, 128, 3)\n",
        "\n",
        "# Create data generators\n",
        "batch_size = 16\n",
        "train_generator = DataGenerator(train_image_dir, train_mask_dir, batch_size, input_shape[:2])\n",
        "val_generator = DataGenerator(val_image_dir, val_mask_dir, batch_size, input_shape[:2], shuffle=False)\n",
        "\n",
        "# Create and compile the model\n",
        "model = unet(input_shape)\n",
        "model.compile(optimizer='adam', loss='binary_crossentropy', metrics=['accuracy'])\n",
        "\n",
        "# Train the model\n",
        "epochs = 10\n",
        "model.fit(train_generator, validation_data=val_generator, epochs=epochs)"
      ],
      "metadata": {
        "colab": {
          "base_uri": "https://localhost:8080/"
        },
        "id": "i8fvGQXbFgvM",
        "outputId": "fc6987b5-664d-48f9-a4af-f7a8902834c4"
      },
      "execution_count": null,
      "outputs": [
        {
          "output_type": "stream",
          "name": "stdout",
          "text": [
            "Epoch 1/10\n",
            "5/5 [==============================] - 127s 25s/step - loss: 0.5698 - accuracy: 0.7032 - val_loss: nan - val_accuracy: 0.7322\n",
            "Epoch 2/10\n",
            "5/5 [==============================] - 117s 23s/step - loss: 0.4577 - accuracy: 0.8692 - val_loss: 0.4823 - val_accuracy: 0.9019\n",
            "Epoch 3/10\n",
            "5/5 [==============================] - 116s 23s/step - loss: 0.4177 - accuracy: 0.8668 - val_loss: 0.4608 - val_accuracy: 0.9025\n",
            "Epoch 4/10\n",
            "5/5 [==============================] - 116s 23s/step - loss: 0.4043 - accuracy: 0.8682 - val_loss: nan - val_accuracy: 0.5320\n",
            "Epoch 5/10\n",
            "5/5 [==============================] - 116s 23s/step - loss: 0.3928 - accuracy: 0.8701 - val_loss: nan - val_accuracy: 0.8794\n",
            "Epoch 6/10\n",
            "5/5 [==============================] - 122s 24s/step - loss: 0.3960 - accuracy: 0.8703 - val_loss: 0.3251 - val_accuracy: 0.9015\n",
            "Epoch 7/10\n",
            "5/5 [==============================] - 130s 27s/step - loss: 0.3803 - accuracy: 0.8687 - val_loss: nan - val_accuracy: 0.7388\n",
            "Epoch 8/10\n",
            "5/5 [==============================] - 119s 23s/step - loss: 0.3714 - accuracy: 0.8703 - val_loss: nan - val_accuracy: 0.7302\n",
            "Epoch 9/10\n",
            "5/5 [==============================] - 112s 22s/step - loss: 0.3746 - accuracy: 0.8675 - val_loss: nan - val_accuracy: 0.5295\n",
            "Epoch 10/10\n",
            "5/5 [==============================] - 125s 26s/step - loss: 0.3738 - accuracy: 0.8670 - val_loss: nan - val_accuracy: 0.5325\n"
          ]
        },
        {
          "output_type": "execute_result",
          "data": {
            "text/plain": [
              "<keras.src.callbacks.History at 0x7bb1045c5120>"
            ]
          },
          "metadata": {},
          "execution_count": 76
        }
      ]
    },
    {
      "cell_type": "code",
      "source": [
        "test_image_dir = \"/content/drive/MyDrive/DSL/2023_2/모델링 프로젝트/TACO/data/batch_1/val_data\"\n",
        "test_mask_dir = \"/content/drive/MyDrive/DSL/2023_2/모델링 프로젝트/TACO/data/batch_1/mask_val\"\n",
        "test_generator = DataGenerator(test_image_dir, test_mask_dir, batch_size, input_shape[:2], shuffle=False)\n",
        "\n",
        "evaluation = model.evaluate(test_generator)\n",
        "print(\"Test Loss:\", evaluation[0])\n",
        "print(\"Test Accuracy:\", evaluation[1])"
      ],
      "metadata": {
        "colab": {
          "base_uri": "https://localhost:8080/"
        },
        "id": "kOAxTjLmMq6n",
        "outputId": "7c4fc169-1f6d-4eb7-e28f-074de27f9984"
      },
      "execution_count": null,
      "outputs": [
        {
          "output_type": "stream",
          "name": "stdout",
          "text": [
            "2/2 [==============================] - 12s 6s/step - loss: nan - accuracy: 0.6462\n",
            "Test Loss: nan\n",
            "Test Accuracy: 0.6462364196777344\n"
          ]
        }
      ]
    },
    {
      "cell_type": "code",
      "source": [
        "model.save(\"segmentation_model.keras\")"
      ],
      "metadata": {
        "id": "mFiUd0VXM_Oh"
      },
      "execution_count": null,
      "outputs": []
    },
    {
      "cell_type": "code",
      "source": [
        "# Load and preprocess the input image\n",
        "input_image = cv2.imread(\"/content/drive/MyDrive/DSL/2023_2/모델링 프로젝트/TACO/data/batch_1/000004.jpg\")\n",
        "input_image = cv2.resize(input_image, (128, 128))  # Resize to the model's input size\n",
        "input_image = input_image / 255.0  # Normalize pixel values"
      ],
      "metadata": {
        "id": "wVeIZQjiNRYU"
      },
      "execution_count": null,
      "outputs": []
    },
    {
      "cell_type": "code",
      "source": [
        "# Predict the mask for the input image\n",
        "predicted_mask = model.predict(np.expand_dims(input_image, axis=0))[0]"
      ],
      "metadata": {
        "colab": {
          "base_uri": "https://localhost:8080/"
        },
        "id": "oRVT2BDOO6i-",
        "outputId": "e28fd60e-eb3c-4424-e081-d81bdee68bd7"
      },
      "execution_count": null,
      "outputs": [
        {
          "output_type": "stream",
          "name": "stdout",
          "text": [
            "1/1 [==============================] - 0s 284ms/step\n"
          ]
        }
      ]
    },
    {
      "cell_type": "code",
      "source": [
        "threshold = 0.5  # Adjust the threshold as needed\n",
        "binary_mask = (predicted_mask > threshold).astype(np.uint8)"
      ],
      "metadata": {
        "id": "CxQYKIcAPEfk"
      },
      "execution_count": null,
      "outputs": []
    },
    {
      "cell_type": "code",
      "source": [
        "# Display the input image\n",
        "plt.subplot(1, 3, 1)\n",
        "plt.imshow(input_image)\n",
        "plt.title(\"Input Image\")\n",
        "\n",
        "# Display the predicted mask\n",
        "plt.subplot(1, 3, 2)\n",
        "plt.imshow(predicted_mask.squeeze(), cmap='gray')  # Squeeze to remove the channel dimension\n",
        "plt.title(\"Predicted Mask\")\n",
        "\n",
        "# Overlay the mask on the input image\n",
        "overlay = input_image.copy()\n",
        "binary_mask = binary_mask.squeeze()  # Squeeze to remove the channel dimension\n",
        "\n",
        "# Ensure dimensions match and overlay the mask\n",
        "overlay[binary_mask == 1] = [0, 255, 0]  # Green color for segmented regions\n",
        "plt.subplot(1, 3, 3)\n",
        "plt.imshow(overlay)\n",
        "plt.title(\"Segmentation Result\")\n",
        "\n",
        "plt.show()"
      ],
      "metadata": {
        "colab": {
          "base_uri": "https://localhost:8080/",
          "height": 228
        },
        "id": "gS4ZUMvKPAMf",
        "outputId": "e728df1b-99e0-4177-fec9-21af16042f47"
      },
      "execution_count": null,
      "outputs": [
        {
          "output_type": "display_data",
          "data": {
            "text/plain": [
              "<Figure size 640x480 with 3 Axes>"
            ],
            "image/png": "[encoded data removed]"
          },
          "metadata": {}
        }
      ]
    }
  ]
}